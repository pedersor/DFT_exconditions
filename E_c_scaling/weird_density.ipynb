{
 "cells": [
  {
   "cell_type": "code",
   "execution_count": 33,
   "metadata": {},
   "outputs": [],
   "source": [
    "import numpy as np\n",
    "import matplotlib.pyplot as plt\n",
    "\n",
    "\n",
    "plt.rcParams[\"axes.titlesize\"] = 24\n",
    "plt.rcParams[\"axes.labelsize\"] = 20\n",
    "plt.rcParams[\"lines.linewidth\"] = 3\n",
    "plt.rcParams[\"lines.markersize\"] = 8\n",
    "plt.rcParams[\"xtick.labelsize\"] = 16\n",
    "plt.rcParams[\"ytick.labelsize\"] = 16\n",
    "plt.rcParams[\"font.size\"] = 24\n",
    "plt.rcParams[\"legend.fontsize\"] = 16\n",
    "plt.rcParams[\"figure.figsize\"] = (6, 6)"
   ]
  },
  {
   "cell_type": "code",
   "execution_count": 41,
   "metadata": {},
   "outputs": [
    {
     "data": {
      "image/png": "[encoded data removed]",
      "text/plain": [
       "<Figure size 432x432 with 1 Axes>"
      ]
     },
     "metadata": {
      "needs_background": "light"
     },
     "output_type": "display_data"
    }
   ],
   "source": [
    "pi = np.pi\n",
    "\n",
    "a = 0.2\n",
    "\n",
    "\n",
    "n_min = 3\n",
    "n_max = 5\n",
    "amp = n_max - n_min\n",
    "offset = n_max\n",
    "\n",
    "slope = 4\n",
    "period = 2*amp*(1-a)/slope\n",
    "num_peaks = 4\n",
    "\n",
    "\n",
    "def decay_tail(grids, b, x, y, y_prime):\n",
    "  \"\"\" decay tail f(x) = A x^b e^(-kx) with f(x) = y and f'(x) = y' \"\"\"\n",
    "\n",
    "  k = ((-y_prime*x/y) + b)/x\n",
    "  A = y/(x**b * np.exp(-k*x))\n",
    "\n",
    "  return A* grids**b * np.exp(-k*grids)\n",
    "\n",
    "\n",
    "def monster():\n",
    "\n",
    "  # grids used in oscillatory region\n",
    "  osc_len = (num_peaks-3/4)*period\n",
    "  grids_1 = np.linspace(0, osc_len, 1000)\n",
    "  osc_density = offset - amp*np.arccos((1 - a)*np.sin((1/period)*2*pi*(grids_1+(period/4))))/pi\n",
    "  \n",
    "\n",
    "  # grids used in decay region\n",
    "  # (use 2x the length of osc. region)\n",
    "  grids_2 = np.linspace(osc_len, 3*osc_len, 2000)\n",
    "\n",
    "  def decay_tail(grids, b, x, y, y_prime):\n",
    "    \"\"\" decay tail f(x) = A x^b e^(-kx) with f(x) = y and f'(x) = y' \"\"\"\n",
    "\n",
    "    k = ((-y_prime*x/y) + b)/x\n",
    "    A = y/(x**b * np.exp(-k*x))\n",
    "\n",
    "    return A* grids**b * np.exp(-k*grids)\n",
    "\n",
    "  tail = decay_tail(grids_2, b=2, x=grids_1[-1], y=osc_density[-1], y_prime=-slope)\n",
    "\n",
    "  n_m = np.concatenate((osc_density, tail[1:]), axis=0)\n",
    "  grids = np.concatenate((grids_1, grids_2[1:]), axis=0)\n",
    "\n",
    "  return grids, n_m\n",
    "\n",
    "grids, n_m = monster()\n",
    "\n",
    "plt.plot(grids, n_m, label='$n_m(r)$')\n",
    "\n",
    "plt.xlabel('$r$')\n",
    "plt.legend()\n",
    "\n",
    "plt.savefig('monster_density_example.pdf', bbox_inches='tight')\n"
   ]
  },
  {
   "cell_type": "code",
   "execution_count": null,
   "metadata": {},
   "outputs": [],
   "source": []
  }
 ],
 "metadata": {
  "interpreter": {
   "hash": "31f2aee4e71d21fbe5cf8b01ff0e069b9275f58929596ceb00d14d90e3e16cd6"
  },
  "kernelspec": {
   "display_name": "Python 3.6.9 64-bit",
   "language": "python",
   "name": "python3"
  },
  "language_info": {
   "codemirror_mode": {
    "name": "ipython",
    "version": 3
   },
   "file_extension": ".py",
   "mimetype": "text/x-python",
   "name": "python",
   "nbconvert_exporter": "python",
   "pygments_lexer": "ipython3",
   "version": "3.6.9"
  },
  "orig_nbformat": 4
 },
 "nbformat": 4,
 "nbformat_minor": 2
}
