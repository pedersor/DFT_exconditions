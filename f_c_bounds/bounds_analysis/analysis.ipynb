{
 "cells": [
  {
   "cell_type": "code",
   "execution_count": 64,
   "metadata": {},
   "outputs": [],
   "source": [
    "import pylibxc\n",
    "import numpy as np\n",
    "import pandas as pd\n",
    "from pathlib import Path\n",
    "\n",
    "file_path = Path('deriv_upper_bd_check_2/mgga_c.csv')\n",
    "df = pd.read_csv(file_path, na_values='---')\n",
    "\n",
    "file = file_path.stem\n",
    "xc_col = file.replace('_c','').upper() + ' corr.'\n",
    "df.rename(columns={'xc':xc_col}, inplace=True)\n"
   ]
  },
  {
   "cell_type": "code",
   "execution_count": 65,
   "metadata": {},
   "outputs": [
    {
     "data": {
      "text/plain": [
       "<function TextIOWrapper.close()>"
      ]
     },
     "execution_count": 65,
     "metadata": {},
     "output_type": "execute_result"
    }
   ],
   "source": [
    "latex_parse = ['@article{', '@article {', '@inproceedings{', '@Inbook{']\n",
    "\n",
    "bib_file = []\n",
    "ref_names = []\n",
    "for xc in df[xc_col]:\n",
    "  func_c = pylibxc.LibXCFunctional(xc, \"polarized\")\n",
    "\n",
    "  ref_name='\\cite{'\n",
    "  for ref in func_c.get_bibtex():\n",
    "    if ref not in bib_file:\n",
    "      bib_file.append(ref)\n",
    "    latex_cite = ref.splitlines()[0]\n",
    "    for repl in latex_parse:\n",
    "      latex_cite = latex_cite.replace(repl,'')\n",
    "    ref_name += latex_cite\n",
    "    \n",
    "  ref_name = ref_name[:-1] + '}' \n",
    "\n",
    "  ref_names.append(ref_name)\n",
    "\n",
    "df['Refs.'] = ref_names \n",
    "\n",
    "# write out bib file\n",
    "bib_file = \"\\n\".join(bib_file)\n",
    "out_file = Path(file_path.parent, file_path.name.replace('.csv','.bib'))\n",
    "f = open(out_file, \"w\")\n",
    "f.write(bib_file)\n",
    "f.close"
   ]
  },
  {
   "cell_type": "code",
   "execution_count": 66,
   "metadata": {},
   "outputs": [],
   "source": [
    "# format functional names\n",
    "df[xc_col] = df[xc_col].apply(lambda row: row.replace(file+'_','').replace('_','\\_'))\n",
    "\n",
    "# format columns\n",
    "for c in df.columns:\n",
    "  if 'range' in c:\n",
    "    df[c] = df[c].apply(lambda row: np.array(row[1:-1].split(', '), dtype=np.float64) if type(row) is str else np.NaN)\n",
    "    df[c] = df[c].apply(lambda row: np.around(row, decimals=4))\n",
    "\n",
    "df = df.fillna('---')"
   ]
  },
  {
   "cell_type": "code",
   "execution_count": 67,
   "metadata": {},
   "outputs": [
    {
     "name": "stdout",
     "output_type": "stream",
     "text": [
      "\\begin{tabular}{|c|c|c|c|c|c|c|l|}\n",
      "\\hline\n",
      "   MGGA corr. &  satisfied condition? &      $r_s$ range &        $s$ range &    $\\zeta$ range & $\\alpha$ range & $q$ range  &                                                                              Refs. \\\\ \\hline\n",
      "          b88 &                  True &              --- &              --- &              --- &            --- &        --- &                                                              \\cite{Becke1988_1053} \\\\ \\hline\n",
      "          b94 &                  True &              --- &              --- &              --- &            --- &        --- &                                                               \\cite{Becke1994_625} \\\\ \\hline\n",
      "         bc95 &                  True &              --- &              --- &              --- &            --- &        --- &                                                              \\cite{Becke1996_1040} \\\\ \\hline\n",
      "           cs &                 False &    [0.0018, 5.0] &    [1.0606, 5.0] &    [0.0, 0.9474] &     [0.0, 5.0] & [0.0, 5.0] &                                                   \\cite{Colle1975_329,Lee1988_785} \\\\ \\hline\n",
      "         dldf &                 False &    [0.0001, 5.0] &    [1.2121, 5.0] &    [0.0, 0.9474] &     [0.0, 5.0] &        --- &                                                           \\cite{Pernal2009_263201} \\\\ \\hline\n",
      "       hltapw &                  True &              --- &              --- &              --- &            --- &        --- &                                                             \\cite{Lehtola2021_943} \\\\ \\hline\n",
      "         kcis &                  True &              --- &              --- &              --- &            --- &        --- & \\cite{Rey1998_581,Krieger1999_463,Krieger2001_48,Kurth1999_889,Toulouse2002_10465} \\\\ \\hline\n",
      "        kcisk &                 False & [0.1271, 1.4974] &     [0.303, 5.0] &       [0.0, 1.0] &     [0.0, 5.0] &        --- & \\cite{Rey1998_581,Krieger1999_463,Krieger2001_48,Kurth1999_889,Toulouse2002_10465} \\\\ \\hline\n",
      "      m05\\_2x &                 False &    [0.0001, 5.0] &    [0.9596, 5.0] &       [0.0, 1.0] &     [0.0, 5.0] &        --- &                                                                \\cite{Zhao2006_364} \\\\ \\hline\n",
      "          m05 &                 False &    [0.0001, 5.0] &    [0.6061, 5.0] &       [0.0, 1.0] &     [0.0, 5.0] &        --- &                                                             \\cite{Zhao2005_161103} \\\\ \\hline\n",
      "      m06\\_2x &                 False &    [0.0001, 5.0] &       [0.0, 5.0] &       [0.0, 1.0] &     [0.0, 5.0] &        --- &                                                                \\cite{Zhao2008_215} \\\\ \\hline\n",
      "          m06 &                 False &    [0.0001, 5.0] &       [0.0, 5.0] &       [0.0, 1.0] &     [0.0, 5.0] &        --- &                                                                \\cite{Zhao2008_215} \\\\ \\hline\n",
      "      m06\\_hf &                 False &    [0.0001, 5.0] &    [0.0, 4.4949] &       [0.0, 1.0] &     [0.0, 5.0] &        --- &                                                              \\cite{Zhao2006_13126} \\\\ \\hline\n",
      "       m06\\_l &                 False &    [0.0001, 5.0] &       [0.0, 5.0] &       [0.0, 1.0] &     [0.0, 5.0] &        --- &                                                \\cite{Zhao2006_194101,Zhao2008_215} \\\\ \\hline\n",
      "      m06\\_sx &                 False &    [0.0001, 5.0] &       [0.0, 5.0] &       [0.0, 1.0] &     [0.0, 5.0] &        --- &                                                               \\cite{Wang2020_2294} \\\\ \\hline\n",
      "      m08\\_hx &                 False &    [0.0001, 5.0] & [0.0505, 2.0707] &       [0.0, 1.0] &     [0.0, 5.0] &        --- &                                                               \\cite{Zhao2008_1849} \\\\ \\hline\n",
      "      m08\\_so &                 False &    [0.0001, 5.0] & [0.0505, 2.2727] &       [0.0, 1.0] &     [0.0, 5.0] &        --- &                                                               \\cite{Zhao2008_1849} \\\\ \\hline\n",
      "          m11 &                 False &    [0.0001, 5.0] &    [0.0, 2.4747] &       [0.0, 1.0] &     [0.0, 5.0] &        --- &                                                           \\cite{Peverati2011_2810} \\\\ \\hline\n",
      "       m11\\_l &                 False &    [0.0001, 5.0] & [0.0505, 3.2828] &       [0.0, 1.0] &     [0.0, 5.0] &        --- &                                                            \\cite{Peverati2012_117} \\\\ \\hline\n",
      "      mn12\\_l &                 False &    [0.0001, 5.0] & [0.0505, 3.4848] &       [0.0, 1.0] &     [0.0, 5.0] &        --- &                                                          \\cite{Peverati2012_13171} \\\\ \\hline\n",
      "     mn12\\_sx &                 False &    [0.0001, 5.0] &    [0.0, 2.1717] &       [0.0, 1.0] &     [0.0, 5.0] &        --- &                                                          \\cite{Peverati2012_16187} \\\\ \\hline\n",
      "         mn15 &                 False &    [0.0001, 5.0] &    [0.0505, 5.0] &       [0.0, 1.0] &     [0.0, 5.0] &        --- &                                                                 \\cite{Yu2016_5032} \\\\ \\hline\n",
      "      mn15\\_l &                 False &    [0.0001, 5.0] & [0.0505, 3.9394] &       [0.0, 1.0] &     [0.0, 5.0] &        --- &                                                                 \\cite{Yu2016_1280} \\\\ \\hline\n",
      "         pkzb &                 False & [0.0001, 0.5882] &  [0.101, 1.7172] &    [0.0, 0.9474] &     [0.0, 5.0] &        --- &                                                             \\cite{Perdew1999_2544} \\\\ \\hline\n",
      "       r2scan &                 False & [0.0001, 0.0041] &  [0.303, 0.4545] & [0.9474, 0.9474] &  [0.5556, 5.0] &        --- &                                           \\cite{Furness2020_8208,Furness2020_9248} \\\\ \\hline\n",
      "      r2scanl &                  True &              --- &              --- &              --- &            --- &        --- &                          \\cite{Mejia2020_121109,Furness2020_8208,Furness2020_9248} \\\\ \\hline\n",
      "       revm06 &                 False &    [0.0001, 5.0] &       [0.0, 5.0] &       [0.0, 1.0] &     [0.0, 5.0] &        --- &                                                              \\cite{Wang2018_10257} \\\\ \\hline\n",
      "    revm06\\_l &                 False &    [0.0001, 5.0] &       [0.0, 5.0] &       [0.0, 1.0] &     [0.0, 5.0] &        --- &                                                               \\cite{Wang2017_8487} \\\\ \\hline\n",
      "       revm11 &                 False &    [0.0001, 5.0] &    [0.0, 2.0202] &       [0.0, 1.0] &     [0.0, 5.0] &        --- &                                                              \\cite{Verma2019_2966} \\\\ \\hline\n",
      "      revscan &                 False &    [0.0001, 5.0] &     [0.202, 5.0] &    [0.0, 0.9474] &  [0.3535, 5.0] &        --- &                                                              \\cite{Mezei2018_2469} \\\\ \\hline\n",
      "revscan\\_vv10 &                 False &    [0.0001, 5.0] &     [0.202, 5.0] &    [0.0, 0.9474] &  [0.3535, 5.0] &        --- &                                                              \\cite{Mezei2018_2469} \\\\ \\hline\n",
      "        revtm &                 False & [0.0001, 2.6036] &  [0.101, 2.2727] &    [0.0, 0.9474] &     [0.0, 5.0] &        --- &                                                               \\cite{Jana2019_6356} \\\\ \\hline\n",
      "      revtpss &                 False & [0.0001, 3.0957] &  [0.101, 2.6263] &    [0.0, 0.9474] &     [0.0, 5.0] &        --- &                                     \\cite{Perdew2009_026403,Perdew2009_026403_err} \\\\ \\hline\n",
      "        rscan &                 False & [0.0001, 0.0041] &  [0.303, 0.4545] & [0.9474, 0.9474] &  [0.5556, 5.0] &        --- &                                                           \\cite{Bartok2019_161101} \\\\ \\hline\n",
      "         scan &                 False & [0.0001, 0.0041] &  [0.303, 0.4545] & [0.9474, 0.9474] &  [0.5556, 5.0] &        --- &                                                              \\cite{Sun2015_036402} \\\\ \\hline\n",
      "        scanl &                  True &              --- &              --- &              --- &            --- &        --- &                            \\cite{Mejia2017_052512,Mejia2018_115161,Sun2015_036402} \\\\ \\hline\n",
      " scanl\\_rvv10 &                  True &              --- &              --- &              --- &            --- &        --- &                           \\cite{Mejia2017_052512,Mejia2018_115161,Peng2016_041005} \\\\ \\hline\n",
      "  scanl\\_vv10 &                  True &              --- &              --- &              --- &            --- &        --- &                    \\cite{Mejia2017_052512,Mejia2018_115161,Brandenburg2016_115144} \\\\ \\hline\n",
      "  scan\\_rvv10 &                 False & [0.0001, 0.0041] &  [0.303, 0.4545] & [0.9474, 0.9474] &  [0.5556, 5.0] &        --- &                                                             \\cite{Peng2016_041005} \\\\ \\hline\n",
      "   scan\\_vv10 &                 False & [0.0001, 0.0041] &  [0.303, 0.4545] & [0.9474, 0.9474] &  [0.5556, 5.0] &        --- &                                                      \\cite{Brandenburg2016_115144} \\\\ \\hline\n",
      "           tm &                 False & [0.0001, 0.2411] &  [0.101, 1.0101] & [0.9474, 0.9474] &     [0.0, 5.0] &        --- &                                                              \\cite{Tao2016_073001} \\\\ \\hline\n",
      "         tpss &                 False & [0.0001, 0.8443] &  [0.101, 1.6667] &    [0.0, 0.9474] &     [0.0, 5.0] &        --- &                                              \\cite{Tao2003_146401,Perdew2004_6898} \\\\ \\hline\n",
      "      tpssloc &                 False &    [0.0001, 5.0] & [0.0505, 2.5253] &       [0.0, 1.0] &     [0.0, 5.0] &        --- &                                                       \\cite{Constantin2012_035130} \\\\ \\hline\n",
      "         vsxc &                 False &    [0.0001, 5.0] &    [0.8586, 5.0] &    [0.0, 0.9474] &     [0.0, 5.0] &        --- &                                                          \\cite{VanVoorhis1998_400} \\\\ \\hline\n",
      "\\end{tabular}\n"
     ]
    },
    {
     "name": "stderr",
     "output_type": "stream",
     "text": [
      "/tmp/ipykernel_32704/1170064660.py:2: FutureWarning: In future versions `DataFrame.to_latex` is expected to utilise the base implementation of `Styler.to_latex` for formatting and rendering. The arguments signature may therefore change. It is recommended instead to use `DataFrame.style.to_latex` which also contains additional functionality.\n",
      "  latex = df.to_latex(index=False, escape=False, column_format=(len(df.columns)-1)*'|c'+ '|l|')\n"
     ]
    }
   ],
   "source": [
    "with pd.option_context(\"max_colwidth\", 1000):\n",
    "    latex = df.to_latex(index=False, escape=False, column_format=(len(df.columns)-1)*'|c'+ '|l|')\n",
    "\n",
    "# horizontal line sep\n",
    "latex = latex.replace(\"\\\\\\n\", \"\\\\ \\hline\\n\").replace('\\\\toprule','\\\\hline')\n",
    "\n",
    "latex_list = latex.splitlines()\n",
    "latex=[]\n",
    "for line in latex_list:\n",
    "  if '\\\\toprule' in line or '\\\\midrule' in line or '\\\\bottomrule' in line:\n",
    "    continue\n",
    "  else:\n",
    "    latex.append(line)\n",
    "\n",
    "\n",
    "\n",
    "latex = \"\\n\".join(latex)\n",
    "\n",
    "out_file = Path(file_path.parent, file_path.name.replace('.csv','.tex'))\n",
    "f = open(out_file, \"w\")\n",
    "f.write(latex)\n",
    "f.close\n",
    "\n",
    "print(latex)"
   ]
  },
  {
   "cell_type": "code",
   "execution_count": 68,
   "metadata": {},
   "outputs": [],
   "source": [
    "# save updated \n",
    "out_file = Path(file_path.parent, file_path.name.replace('.csv','_table.csv'))\n",
    "df.to_csv(out_file, index=None)"
   ]
  }
 ],
 "metadata": {
  "interpreter": {
   "hash": "31f2aee4e71d21fbe5cf8b01ff0e069b9275f58929596ceb00d14d90e3e16cd6"
  },
  "kernelspec": {
   "display_name": "Python 3.6.9 64-bit",
   "language": "python",
   "name": "python3"
  },
  "language_info": {
   "codemirror_mode": {
    "name": "ipython",
    "version": 3
   },
   "file_extension": ".py",
   "mimetype": "text/x-python",
   "name": "python",
   "nbconvert_exporter": "python",
   "pygments_lexer": "ipython3",
   "version": "3.8.0"
  },
  "orig_nbformat": 4
 },
 "nbformat": 4,
 "nbformat_minor": 2
}
