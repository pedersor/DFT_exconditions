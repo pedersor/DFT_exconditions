{
 "cells": [
  {
   "cell_type": "code",
   "execution_count": 18,
   "metadata": {},
   "outputs": [],
   "source": [
    "import pylibxc\n",
    "import numpy as np\n",
    "import pandas as pd\n",
    "from pathlib import Path\n",
    "\n",
    "# path/to/data.csv\n",
    "data_path = Path('data/comprehensive_search.csv')\n",
    "# folder for outputs\n",
    "out_path = Path('out')\n",
    "out_path.mkdir(exist_ok=True, parents=True)\n",
    "df = pd.read_csv(data_path)\n"
   ]
  },
  {
   "cell_type": "markdown",
   "metadata": {},
   "source": [
    "Generate bibtex file and references for functionals"
   ]
  },
  {
   "cell_type": "code",
   "execution_count": 19,
   "metadata": {},
   "outputs": [],
   "source": [
    "import re\n",
    "\n",
    "bib_file = []\n",
    "ref_names = []\n",
    "is_combined_xc = []\n",
    "\n",
    "for xc in df['xc_id']:\n",
    "  \n",
    "\n",
    "  if '_xc_' in xc.lower():\n",
    "    combined_xc = True\n",
    "  else: \n",
    "    combined_xc = False\n",
    "  is_combined_xc.append(combined_xc)\n",
    "\n",
    "  func = pylibxc.LibXCFunctional(xc, \"polarized\")  \n",
    "  ref_name='\\cite{'\n",
    "  for ref in func.get_bibtex():\n",
    "    \n",
    "    latex_cite = ref.splitlines()[0]\n",
    "    # get latex cite name by removing the following prefixes\n",
    "    # like @article{, @inproceedings{, @Inbook{, @misc{, etc.\n",
    "    latex_cite = re.search(r'@.*{(.*)', latex_cite).group(1)  \n",
    "\n",
    "    if latex_cite == 'Bilc2008_165107,':\n",
    "        # fix for Bilc2008_165107 ref.\n",
    "        ref = ref.replace(r'{\\'{I}\\\\textasciitilde {n}iguez}', r'\\'I\\~niguez') \n",
    "\n",
    "    if ref not in bib_file:             \n",
    "      bib_file.append(ref)\n",
    "    \n",
    "    ref_name += latex_cite\n",
    "    \n",
    "  ref_name = ref_name[:-1] + '}' \n",
    "\n",
    "  ref_names.append(ref_name)\n",
    "\n",
    "df['Refs.'] = ref_names \n",
    "df['combined xc'] = is_combined_xc\n",
    "\n",
    "# write out bib file\n",
    "bib_file = \"\\n\".join(bib_file)\n",
    "out_file = out_path / data_path.name.replace('.csv','.bib')\n",
    "f = open(out_file, \"w\")\n",
    "f.write(bib_file)\n",
    "f.close()\n"
   ]
  },
  {
   "cell_type": "markdown",
   "metadata": {},
   "source": [
    "Create latex tables"
   ]
  },
  {
   "cell_type": "code",
   "execution_count": 20,
   "metadata": {},
   "outputs": [],
   "source": [
    "min_df = df[[\"xc_id\", \"xc_name\", \"type\", \"Refs.\", \"condition\", \"violation fraction\"]]\n",
    "table_df = min_df.pivot_table(values='violation fraction', index=min_df['xc_id'], columns='condition', aggfunc='first')\n",
    "\n",
    "table_df[\"table_name\"] = min_df.groupby('xc_id').apply(lambda x: (x['xc_name'] + \"~\" + x['Refs.']).iloc[0])\n",
    "table_df[\"type\"] = min_df.groupby('xc_id').apply(lambda x: x['type'].iloc[0])\n"
   ]
  },
  {
   "cell_type": "code",
   "execution_count": 21,
   "metadata": {},
   "outputs": [
    {
     "name": "stderr",
     "output_type": "stream",
     "text": [
      "/tmp/ipykernel_11838/3693472631.py:26: SettingWithCopyWarning: \n",
      "A value is trying to be set on a copy of a slice from a DataFrame\n",
      "\n",
      "See the caveats in the documentation: https://pandas.pydata.org/pandas-docs/stable/user_guide/indexing.html#returning-a-view-versus-a-copy\n",
      "  tex_df.sort_values(by=['table_name'], inplace=True)\n",
      "/tmp/ipykernel_11838/3693472631.py:26: SettingWithCopyWarning: \n",
      "A value is trying to be set on a copy of a slice from a DataFrame\n",
      "\n",
      "See the caveats in the documentation: https://pandas.pydata.org/pandas-docs/stable/user_guide/indexing.html#returning-a-view-versus-a-copy\n",
      "  tex_df.sort_values(by=['table_name'], inplace=True)\n",
      "/tmp/ipykernel_11838/3693472631.py:26: SettingWithCopyWarning: \n",
      "A value is trying to be set on a copy of a slice from a DataFrame\n",
      "\n",
      "See the caveats in the documentation: https://pandas.pydata.org/pandas-docs/stable/user_guide/indexing.html#returning-a-view-versus-a-copy\n",
      "  tex_df.sort_values(by=['table_name'], inplace=True)\n",
      "/tmp/ipykernel_11838/3693472631.py:26: SettingWithCopyWarning: \n",
      "A value is trying to be set on a copy of a slice from a DataFrame\n",
      "\n",
      "See the caveats in the documentation: https://pandas.pydata.org/pandas-docs/stable/user_guide/indexing.html#returning-a-view-versus-a-copy\n",
      "  tex_df.sort_values(by=['table_name'], inplace=True)\n"
     ]
    }
   ],
   "source": [
    "\n",
    "\n",
    "max_table_size=60\n",
    "\n",
    "table_header = {\n",
    "    'table_name': '',\n",
    "    'negativity_check': r'\\makecell[c]{$E\\C[n]$ \\\\ non-positivity}',\n",
    "    'deriv_lower_bd_check': r'\\makecell[c]{$E\\C[n\\g]$ uniform \\\\ scaling inequality}',\n",
    "    'deriv_upper_bd_check_1': r'\\makecell[c]{$T\\C[n]$ \\\\ upper bound}',\n",
    "    'second_deriv_check': r'\\makecell[c]{concavity of \\\\ $\\lambda^2 E\\c[n_{1/\\lambda}]$}',\n",
    "    'lieb_oxford_bd_check_Exc': r'\\makecell[c]{LO extension \\\\ to $E\\xc$}',\n",
    "    'lieb_oxford_bd_check_Uxc': r'\\makecell[c]{LO}',\n",
    "    \"deriv_upper_bd_check_2\": r'\\makecell[c]{conjecture: \\\\ $T_c \\leq -E_c$}',\n",
    "}\n",
    "\n",
    "captions = {\n",
    "    'GGA': 'GGA functionals: numerical assessment of corresponding local conditions.',\n",
    "    'MGGA': 'MGGA functionals: numerical assessment of corresponding local conditions.',\n",
    "    'HYB_GGA': 'Hybrid GGA functionals: numerical assessment of corresponding local conditions.',\n",
    "    'HYB_MGGA': 'Hybrid MGGA functionals: numerical assessment of corresponding local conditions.',\n",
    "}\n",
    "\n",
    "families = list(captions)\n",
    "for family in families:\n",
    "\n",
    "  tex_df = table_df[table_df['type'] == family]\n",
    "\n",
    "  tex_df.sort_values(by=['table_name'], inplace=True)\n",
    "  sorted_cols = list(table_header)\n",
    "  tex_df = tex_df.reindex(sorted_cols, axis=1)\n",
    "  tex_df.rename(columns=table_header, inplace=True)\n",
    "  tex_df.replace(0, '0', inplace=True)\n",
    "  tex_df.fillna('---', inplace=True)\n",
    "\n",
    "  \n",
    "  # split numpy array where the maximum size of each subarray is 50\n",
    "  ranges = np.arange(max_table_size, tex_df.shape[0], max_table_size)\n",
    "  split_tex_dfs = np.array_split(tex_df, ranges)\n",
    "\n",
    "  for i, split_tex_df in enumerate(split_tex_dfs):\n",
    "    # only show 3 decimal places\n",
    "    tex_sty = split_tex_df.style.format(precision=3).hide(axis='index')\n",
    "\n",
    "    caption = captions[family]\n",
    "\n",
    "    latex = tex_sty.to_latex(\n",
    "        column_format='|l|' + (len(tex_sty.columns)-1)*'c|',\n",
    "        hrules=True,\n",
    "        caption=caption,\n",
    "    )\n",
    "    # make table and caption take up full width\n",
    "    latex = latex.replace('begin{table}', 'begin{table*}').replace('end{table}', 'end{table*}')\n",
    "\n",
    "    out_file = out_path / data_path.name.replace('.csv',f'_{family}-{i}.tex')\n",
    "    f = open(out_file, \"w\")\n",
    "    f.write(latex)\n",
    "    f.close()"
   ]
  }
 ],
 "metadata": {
  "kernelspec": {
   "display_name": "Python 3.8.0 64-bit",
   "language": "python",
   "name": "python3"
  },
  "language_info": {
   "codemirror_mode": {
    "name": "ipython",
    "version": 3
   },
   "file_extension": ".py",
   "mimetype": "text/x-python",
   "name": "python",
   "nbconvert_exporter": "python",
   "pygments_lexer": "ipython3",
   "version": "3.8.0"
  },
  "orig_nbformat": 4,
  "vscode": {
   "interpreter": {
    "hash": "df0893f56f349688326838aaeea0de204df53a132722cbd565e54b24a8fec5f6"
   }
  }
 },
 "nbformat": 4,
 "nbformat_minor": 2
}
