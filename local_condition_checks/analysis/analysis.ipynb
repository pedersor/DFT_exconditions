{
 "cells": [
  {
   "cell_type": "code",
   "execution_count": 13,
   "metadata": {},
   "outputs": [],
   "source": [
    "import pylibxc\n",
    "import numpy as np\n",
    "import pandas as pd\n",
    "from pathlib import Path\n",
    "\n",
    "cond_to_check = 'lieb_oxford_bd_check_Exc'\n",
    "xc_or_c = 'xc'\n",
    "family = 'gga'\n",
    "\n",
    "file_path = Path(f'{cond_to_check}/{family}_{xc_or_c}.csv')\n",
    "df = pd.read_csv(file_path, na_values='---')\n",
    "\n",
    "file = file_path.stem\n",
    "if xc_or_c == 'xc':\n",
    "  xc_col = file.replace(f'_{xc_or_c}','').upper() + ' XC'\n",
    "elif xc_or_c == 'c':\n",
    "  xc_col = file.replace(f'_{xc_or_c}','').upper() + ' corr.'\n",
    "\n",
    "df.rename(columns={'xc':xc_col}, inplace=True)\n"
   ]
  },
  {
   "cell_type": "code",
   "execution_count": 14,
   "metadata": {},
   "outputs": [],
   "source": [
    "latex_parse = ['@article{', '@article {', '@inproceedings{', '@Inbook{']\n",
    "\n",
    "bib_file = []\n",
    "ref_names = []\n",
    "for xc in df[xc_col]:\n",
    "  func_c = pylibxc.LibXCFunctional(xc, \"polarized\")\n",
    "\n",
    "  ref_name='\\cite{'\n",
    "  for ref in func_c.get_bibtex():\n",
    "    if ref not in bib_file:\n",
    "      bib_file.append(ref)\n",
    "    latex_cite = ref.splitlines()[0]\n",
    "    for repl in latex_parse:\n",
    "      latex_cite = latex_cite.replace(repl,'')\n",
    "    ref_name += latex_cite\n",
    "    \n",
    "  ref_name = ref_name[:-1] + '}' \n",
    "\n",
    "  ref_names.append(ref_name)\n",
    "\n",
    "df['Refs.'] = ref_names \n",
    "\n",
    "# write out bib file\n",
    "bib_file = \"\\n\".join(bib_file)\n",
    "out_file = Path(file_path.parent, file_path.name.replace('.csv','.bib'))\n",
    "f = open(out_file, \"w\")\n",
    "f.write(bib_file)\n",
    "f.close()"
   ]
  },
  {
   "cell_type": "code",
   "execution_count": 15,
   "metadata": {},
   "outputs": [],
   "source": [
    "# format functional names\n",
    "df[xc_col] = df[xc_col].apply(lambda row: row.replace(family+'_c_','').replace('_','\\_'))\n",
    "\n",
    "# format columns\n",
    "for c in df.columns:\n",
    "  if 'range' in c:\n",
    "    df[c] = df[c].apply(lambda row: np.array(row[1:-1].split(', '), dtype=np.float64) if type(row) is str else np.NaN)\n",
    "    df[c] = df[c].apply(lambda row: np.around(row, decimals=4))\n",
    "\n",
    "df = df.fillna('---')"
   ]
  },
  {
   "cell_type": "code",
   "execution_count": 16,
   "metadata": {},
   "outputs": [],
   "source": [
    "with pd.option_context(\"max_colwidth\", 1000):\n",
    "    latex = df.to_latex(index=False, escape=False, column_format=(len(df.columns)-1)*'|c'+ '|l|')\n",
    "\n",
    "# horizontal line sep\n",
    "latex = latex.replace(\"\\\\\\n\", \"\\\\ \\hline\\n\").replace('\\\\toprule','\\\\hline')\n",
    "\n",
    "latex_list = latex.splitlines()\n",
    "latex=[]\n",
    "for line in latex_list:\n",
    "  if '\\\\toprule' in line or '\\\\midrule' in line or '\\\\bottomrule' in line:\n",
    "    continue\n",
    "  else:\n",
    "    latex.append(line)\n",
    "\n",
    "latex = \"\\n\".join(latex)\n",
    "\n",
    "out_file = Path(file_path.parent, file_path.name.replace('.csv','.tex'))\n",
    "f = open(out_file, \"w\")\n",
    "f.write(latex)\n",
    "f.close()"
   ]
  },
  {
   "cell_type": "code",
   "execution_count": 17,
   "metadata": {},
   "outputs": [],
   "source": [
    "# save updated \n",
    "out_file = Path(file_path.parent, file_path.name.replace('.csv','_table.csv'))\n",
    "df.to_csv(out_file, index=None)"
   ]
  }
 ],
 "metadata": {
  "interpreter": {
   "hash": "31f2aee4e71d21fbe5cf8b01ff0e069b9275f58929596ceb00d14d90e3e16cd6"
  },
  "kernelspec": {
   "display_name": "Python 3.6.9 64-bit",
   "language": "python",
   "name": "python3"
  },
  "language_info": {
   "codemirror_mode": {
    "name": "ipython",
    "version": 3
   },
   "file_extension": ".py",
   "mimetype": "text/x-python",
   "name": "python",
   "nbconvert_exporter": "python",
   "pygments_lexer": "ipython3",
   "version": "3.8.10"
  },
  "orig_nbformat": 4
 },
 "nbformat": 4,
 "nbformat_minor": 2
}
