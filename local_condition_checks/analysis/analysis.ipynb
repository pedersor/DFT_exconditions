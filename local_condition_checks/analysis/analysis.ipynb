{
 "cells": [
  {
   "cell_type": "code",
   "execution_count": 3,
   "metadata": {},
   "outputs": [],
   "source": [
    "import pylibxc\n",
    "import numpy as np\n",
    "import pandas as pd\n",
    "from pathlib import Path\n",
    "\n",
    "# path/to/data.csv\n",
    "data_path = Path('data/comprehensive_search.csv')\n",
    "# folder for outputs\n",
    "out_path = Path('out')\n",
    "out_path.mkdir(exist_ok=True, parents=True)\n",
    "df = pd.read_csv(data_path)"
   ]
  },
  {
   "cell_type": "markdown",
   "metadata": {},
   "source": [
    "Generate bibtex file and references for functionals"
   ]
  },
  {
   "cell_type": "code",
   "execution_count": 4,
   "metadata": {},
   "outputs": [],
   "source": [
    "import re\n",
    "\n",
    "# Simplified using re..\n",
    "latex_parse = ['@article{', '@article {', '@inproceedings{', '@Inbook{', '@misc{']\n",
    "\n",
    "\n",
    "bib_file = []\n",
    "ref_names = []\n",
    "is_combined_xc = []\n",
    "for xc in df['xc_id']:\n",
    "  try:\n",
    "    func_c = pylibxc.LibXCFunctional(xc, \"polarized\")\n",
    "    combined_xc = False\n",
    "  except:\n",
    "    # is an xc functional\n",
    "    func_c = pylibxc.LibXCFunctional(xc.replace('_c_', '_xc_'), \"unpolarized\")\n",
    "    combined_xc = True\n",
    "\n",
    "  is_combined_xc.append(combined_xc)\n",
    "\n",
    "  ref_name='\\cite{'\n",
    "  for ref in func_c.get_bibtex():\n",
    "    if ref not in bib_file:\n",
    "      bib_file.append(ref)\n",
    "    latex_cite = ref.splitlines()[0]\n",
    "    # get latex cite name by removing the following prefixes\n",
    "    # like @article{, @inproceedings{, @Inbook{, @misc{, etc.\n",
    "    latex_cite = re.search(r'@.*{(.*)', latex_cite).group(1)  \n",
    "    ref_name += latex_cite\n",
    "    \n",
    "  ref_name = ref_name[:-1] + '}' \n",
    "\n",
    "  ref_names.append(ref_name)\n",
    "\n",
    "df['Refs.'] = ref_names \n",
    "df['combined xc'] = is_combined_xc\n",
    "\n",
    "# write out bib file\n",
    "bib_file = \"\\n\".join(bib_file)\n",
    "out_file = out_path / data_path.name.replace('.csv','.bib')\n",
    "f = open(out_file, \"w\")\n",
    "f.write(bib_file)\n",
    "f.close()\n"
   ]
  },
  {
   "cell_type": "markdown",
   "metadata": {},
   "source": [
    "Create latex tables"
   ]
  },
  {
   "cell_type": "code",
   "execution_count": 5,
   "metadata": {},
   "outputs": [],
   "source": [
    "min_df = df[[\"xc_id\", \"xc_name\", \"Refs.\", \"condition\", \"violation fraction\"]]\n",
    "table_df = min_df.pivot_table(values='violation fraction', index=min_df['xc_id'], columns='condition', aggfunc='first')\n",
    "\n",
    "table_df[\"table_name\"] = min_df.groupby('xc_id').apply(lambda x: (x['xc_name'] + \"~\" + x['Refs.']).iloc[0])\n",
    "\n",
    "pretty_conds = {\n",
    "    'negativity_check': '$E_c$ non-positivity',\n",
    "    'deriv_lower_bd_check': '$E_c[n_{\\gamma}]$ inequalities',\n",
    "    'deriv_upper_bd_check_1': '$T_c$ upper-bound',\n",
    "    'second_deriv_check': '$E^{\\lambda}_c[n]$ concavity',\n",
    "    'lieb_oxford_bd_check_Exc': r'LO bound on $E_{xc}$',\n",
    "    'lieb_oxford_bd_check_Uxc': r'LO bound on $U_{xc}$',\n",
    "    \"deriv_upper_bd_check_2\": r'Conjecture: $T_c \\leq -E_c$',\n",
    "}\n",
    "\n",
    "sorted_cols = ['table_name'] + list(pretty_conds)\n",
    "table_df = table_df.reindex(sorted_cols, axis=1)\n",
    "table_df.rename(columns=pretty_conds, inplace=True)\n",
    "table_df.dropna(inplace=True)"
   ]
  },
  {
   "cell_type": "code",
   "execution_count": 6,
   "metadata": {},
   "outputs": [
    {
     "name": "stderr",
     "output_type": "stream",
     "text": [
      "/tmp/ipykernel_6307/380606811.py:3: FutureWarning: In future versions `DataFrame.to_latex` is expected to utilise the base implementation of `Styler.to_latex` for formatting and rendering. The arguments signature may therefore change. It is recommended instead to use `DataFrame.style.to_latex` which also contains additional functionality.\n",
      "  latex = table_df.to_latex(index=False, escape=False,\n"
     ]
    }
   ],
   "source": [
    "\n",
    "# avoid pandas truncation in latex table\n",
    "with pd.option_context(\"max_colwidth\", 1000):\n",
    "    latex = table_df.to_latex(index=False, escape=False, \n",
    "        column_format=(len(table_df.columns)-1)*'|c'+ '|l|',\n",
    "        float_format=\"%.3f\",\n",
    "        header=[''] + list(table_df.columns[1:]))\n",
    "\n",
    "# horizontal line sep\n",
    "latex = latex.replace(\"\\\\\\n\", \"\\\\ \\hline\\n\").replace('\\\\toprule','\\\\hline')\n",
    "\n",
    "latex_list = latex.splitlines()\n",
    "latex=[]\n",
    "for line in latex_list:\n",
    "  if '\\\\toprule' in line or '\\\\midrule' in line or '\\\\bottomrule' in line:\n",
    "    continue\n",
    "  else:\n",
    "    latex.append(line)\n",
    "\n",
    "latex = \"\\n\".join(latex)\n",
    "\n",
    "out_file = out_path / data_path.name.replace('.csv','.tex')\n",
    "f = open(out_file, \"w\")\n",
    "f.write(latex)\n",
    "f.close()"
   ]
  }
 ],
 "metadata": {
  "kernelspec": {
   "display_name": "Python 3.8.10 64-bit",
   "language": "python",
   "name": "python3"
  },
  "language_info": {
   "codemirror_mode": {
    "name": "ipython",
    "version": 3
   },
   "file_extension": ".py",
   "mimetype": "text/x-python",
   "name": "python",
   "nbconvert_exporter": "python",
   "pygments_lexer": "ipython3",
   "version": "3.8.10"
  },
  "orig_nbformat": 4,
  "vscode": {
   "interpreter": {
    "hash": "916dbcbb3f70747c44a77c7bcd40155683ae19c65e1c03b4aa3499c5328201f1"
   }
  }
 },
 "nbformat": 4,
 "nbformat_minor": 2
}
