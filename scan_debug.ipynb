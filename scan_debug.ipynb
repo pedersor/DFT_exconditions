{
 "cells": [
  {
   "cell_type": "code",
   "execution_count": 1,
   "metadata": {},
   "outputs": [],
   "source": [
    "import pylibxc\n",
    "import numpy as np\n",
    "\n",
    "# util to define variables...\n",
    "\n",
    "def get_density(r_s):\n",
    "  return 3/(4*np.pi*(r_s ** 3))\n",
    "\n",
    "def hartree_to_mRy(energy):\n",
    "  return energy * 2 * 1000\n",
    "\n",
    "def get_eps_x_unif(n):\n",
    "  return -(3/(4*np.pi))*((n*3*np.pi**2)**(1/3))\n",
    "\n",
    "def get_grad_n(s, n):\n",
    "  return s*((n**(4/3))*2*(3*np.pi**2)**(1/3))\n",
    "\n",
    "def get_up_dn_density(n, zeta):\n",
    "  n = np.expand_dims(n.flatten(), axis=1)\n",
    "  zeta = np.expand_dims(zeta.flatten(), axis=1)\n",
    "\n",
    "  up_density = ((zeta * n) + n)/2\n",
    "  dn_density = (n - (zeta * n))/2\n",
    "  return np.concatenate((up_density, dn_density), axis=1)\n",
    "\n",
    "def get_tau(alpha, grad_n, n):\n",
    "  tau_w = (grad_n**2) / (8*n)\n",
    "  tau_unif = (3/10)*((3*np.pi)**(2/3))*(n**(5/3))\n",
    "  \n",
    "  return alpha*tau_unif + tau_w\n"
   ]
  },
  {
   "cell_type": "code",
   "execution_count": 2,
   "metadata": {},
   "outputs": [],
   "source": [
    "def scan_eps_c_pol(r_s, zeta, s, alpha, config):\n",
    "\n",
    "  scan_c = pylibxc.LibXCFunctional(\"mgga_c_scan\", \"polarized\")\n",
    "\n",
    "  n = get_density(r_s)\n",
    "  grad_n = get_grad_n(s, n)\n",
    "  n_spin = get_up_dn_density(n, zeta)\n",
    "  tau = get_tau(alpha, grad_n, n)\n",
    "\n",
    "  inp = {}\n",
    "  inp[\"rho\"] = n_spin\n",
    "\n",
    "  # total sigma and tau\n",
    "  sigma = np.expand_dims(grad_n.flatten()**2, axis=1)\n",
    "  tau = np.expand_dims(tau.flatten(), axis=1)\n",
    "\n",
    "  if config==0:\n",
    "    sigma = np.concatenate((sigma, np.zeros_like(sigma), np.zeros_like(sigma)), axis=1)\n",
    "    tau = np.concatenate((tau, np.zeros_like(tau)), axis=1)\n",
    "  elif config==1:\n",
    "    sigma = np.concatenate((np.zeros_like(sigma), np.zeros_like(sigma), sigma), axis=1)\n",
    "    tau = np.concatenate((np.zeros_like(tau),tau), axis=1)\n",
    "  elif config==2:\n",
    "    sigma = np.concatenate((sigma/4, sigma/4, sigma/4), axis=1)\n",
    "    tau = np.concatenate((tau/2, tau/2), axis=1)\n",
    "\n",
    "\n",
    "  inp[\"sigma\"] = sigma\n",
    "  inp[\"tau\"] = tau\n",
    "\n",
    "  scan_c_res = scan_c.compute(inp)\n",
    "  return np.squeeze(scan_c_res['zk'])\n"
   ]
  },
  {
   "cell_type": "code",
   "execution_count": 3,
   "metadata": {},
   "outputs": [
    {
     "data": {
      "text/html": [
       "<div>\n",
       "<style scoped>\n",
       "    .dataframe tbody tr th:only-of-type {\n",
       "        vertical-align: middle;\n",
       "    }\n",
       "\n",
       "    .dataframe tbody tr th {\n",
       "        vertical-align: top;\n",
       "    }\n",
       "\n",
       "    .dataframe thead th {\n",
       "        text-align: right;\n",
       "    }\n",
       "</style>\n",
       "<table border=\"1\" class=\"dataframe\">\n",
       "  <thead>\n",
       "    <tr style=\"text-align: right;\">\n",
       "      <th></th>\n",
       "      <th>0</th>\n",
       "      <th>1</th>\n",
       "      <th>-1</th>\n",
       "      <th>config</th>\n",
       "    </tr>\n",
       "  </thead>\n",
       "  <tbody>\n",
       "    <tr>\n",
       "      <th>0</th>\n",
       "      <td>-0.024670419207159677</td>\n",
       "      <td>-0.005251703880224634</td>\n",
       "      <td>-0.03514637668112172</td>\n",
       "      <td>0</td>\n",
       "    </tr>\n",
       "    <tr>\n",
       "      <th>1</th>\n",
       "      <td>-0.024670419207159677</td>\n",
       "      <td>-0.03514637668112172</td>\n",
       "      <td>-0.005251703880224634</td>\n",
       "      <td>1</td>\n",
       "    </tr>\n",
       "    <tr>\n",
       "      <th>2</th>\n",
       "      <td>-0.018702163852413748</td>\n",
       "      <td>-0.013947485107505538</td>\n",
       "      <td>-0.013947485107505538</td>\n",
       "      <td>2</td>\n",
       "    </tr>\n",
       "  </tbody>\n",
       "</table>\n",
       "</div>"
      ],
      "text/plain": [
       "                       0                      1                     -1  config\n",
       "0  -0.024670419207159677  -0.005251703880224634   -0.03514637668112172       0\n",
       "1  -0.024670419207159677   -0.03514637668112172  -0.005251703880224634       1\n",
       "2  -0.018702163852413748  -0.013947485107505538  -0.013947485107505538       2"
      ]
     },
     "execution_count": 3,
     "metadata": {},
     "output_type": "execute_result"
    }
   ],
   "source": [
    "import pandas as pd\n",
    "\n",
    "r_s = np.array([2])\n",
    "s = np.array([2])\n",
    "alpha = np.array([2])\n",
    "zetas = [0,1,-1]\n",
    "configs = [0,1,2]\n",
    "\n",
    "df={zeta:[] for zeta in zetas}\n",
    "for config in configs:\n",
    "  for zeta in df:\n",
    "    df[zeta].append(scan_eps_c_pol(r_s=r_s, zeta=np.array([zeta]), s=s, alpha=alpha, config=config))\n",
    "\n",
    "df[\"config\"] = configs \n",
    "df = pd.DataFrame.from_dict(df)\n",
    "\n",
    "df\n"
   ]
  },
  {
   "cell_type": "code",
   "execution_count": 4,
   "metadata": {},
   "outputs": [],
   "source": [
    "# values from my mathematica implementation..\n",
    "# zeta=0 : -0.0194047\n",
    "# zeta=1,-1 : -0.010152\n"
   ]
  }
 ],
 "metadata": {
  "interpreter": {
   "hash": "916dbcbb3f70747c44a77c7bcd40155683ae19c65e1c03b4aa3499c5328201f1"
  },
  "kernelspec": {
   "display_name": "Python 3.8.10 64-bit",
   "language": "python",
   "name": "python3"
  },
  "language_info": {
   "codemirror_mode": {
    "name": "ipython",
    "version": 3
   },
   "file_extension": ".py",
   "mimetype": "text/x-python",
   "name": "python",
   "nbconvert_exporter": "python",
   "pygments_lexer": "ipython3",
   "version": "3.8.10"
  },
  "orig_nbformat": 4
 },
 "nbformat": 4,
 "nbformat_minor": 2
}
