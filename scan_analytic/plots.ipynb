{
 "cells": [
  {
   "cell_type": "code",
   "execution_count": 1,
   "metadata": {},
   "outputs": [],
   "source": [
    "import numpy as np\n",
    "import pandas as pd\n",
    "import matplotlib.pyplot as plt\n",
    "from matplotlib import colors\n",
    "\n",
    "import sys\n",
    "sys.path.append('../')\n",
    "import utils\n"
   ]
  },
  {
   "cell_type": "code",
   "execution_count": 2,
   "metadata": {},
   "outputs": [],
   "source": [
    "#plt.style.use('seaborn')\n",
    "\n",
    "plt.rcParams[\"axes.titlesize\"] = 24\n",
    "plt.rcParams[\"axes.labelsize\"] = 20\n",
    "plt.rcParams[\"lines.linewidth\"] = 3\n",
    "plt.rcParams[\"lines.markersize\"] = 8\n",
    "plt.rcParams[\"xtick.labelsize\"] = 16\n",
    "plt.rcParams[\"ytick.labelsize\"] = 16\n",
    "plt.rcParams[\"font.size\"] = 24\n",
    "plt.rcParams[\"legend.fontsize\"] = 16\n",
    "\n",
    "plt.rcParams[\"figure.figsize\"] = (8, 8)"
   ]
  },
  {
   "cell_type": "code",
   "execution_count": 3,
   "metadata": {},
   "outputs": [
    {
     "data": {
      "text/plain": [
       "(0.0, 0.2)"
      ]
     },
     "execution_count": 3,
     "metadata": {},
     "output_type": "execute_result"
    },
    {
     "data": {
      "image/png": "[encoded data removed]",
      "text/plain": [
       "<Figure size 576x576 with 1 Axes>"
      ]
     },
     "metadata": {
      "needs_background": "light"
     },
     "output_type": "display_data"
    }
   ],
   "source": [
    "fig, ax = plt.subplots()\n",
    "\n",
    "alphas=[10, 1, 0.2]\n",
    "alphas_str = [str(a).replace('.','-') for a in alphas] \n",
    "files=['region_alpha_' + ext + '.csv' for ext in alphas_str]\n",
    "fill_colors=['lightblue', 'moccasin', 'lightgreen']\n",
    "\n",
    "for file, fill_color, alpha in zip(files, fill_colors, alphas):\n",
    "\n",
    "  df = pd.read_csv(file, header=None)\n",
    "  data = df.values.reshape(1001, 100, 3)\n",
    "\n",
    "  s = data[:,0,0]\n",
    "  rs = data[0,:,1]\n",
    "  z = data[:,:,-1].T\n",
    "\n",
    "  cmap = colors.ListedColormap([\"none\", fill_color])\n",
    "\n",
    "  ax.contourf(s, rs, z, cmap=cmap)\n",
    "  ax.scatter(-1,-1, color=fill_color, marker=\"s\", label=rf'$\\alpha = {alpha}$')\n",
    "\n",
    "  ax.set_xlabel('$s$')\n",
    "  ax.set_ylabel('$r_s$')\n",
    "\n",
    "ax.set_xlim(0, 10)\n",
    "ax.set_ylim(0, 0.2)\n",
    "\n"
   ]
  },
  {
   "cell_type": "code",
   "execution_count": 4,
   "metadata": {},
   "outputs": [],
   "source": [
    "\n",
    "\n",
    "x = np.linspace(0, 0.003)\n",
    "\n",
    "n0 = 238732\n",
    "n0_grad = 1e8\n",
    "n = n0 + n0_grad*x\n",
    "\n",
    "s_trace = utils.get_s(n, n0_grad)\n",
    "r_s_trace = utils.get_r_s(n)\n",
    "\n",
    "ax.plot(s_trace, r_s_trace, color='black', label='example density')\n",
    "\n",
    "ax.legend()\n",
    "ax.grid(alpha=0.4)\n",
    "\n",
    "fig.savefig('scan_counter_example.pdf', bbox_inches='tight')\n",
    "fig\n"
   ]
  }
 ],
 "metadata": {
  "interpreter": {
   "hash": "31f2aee4e71d21fbe5cf8b01ff0e069b9275f58929596ceb00d14d90e3e16cd6"
  },
  "kernelspec": {
   "display_name": "Python 3.6.9 64-bit",
   "language": "python",
   "name": "python3"
  },
  "language_info": {
   "codemirror_mode": {
    "name": "ipython",
    "version": 3
   },
   "file_extension": ".py",
   "mimetype": "text/x-python",
   "name": "python",
   "nbconvert_exporter": "python",
   "pygments_lexer": "ipython3",
   "version": "3.6.9"
  },
  "orig_nbformat": 4
 },
 "nbformat": 4,
 "nbformat_minor": 2
}
