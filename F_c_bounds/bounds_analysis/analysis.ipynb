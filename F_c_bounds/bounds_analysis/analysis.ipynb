{
 "cells": [
  {
   "cell_type": "code",
   "execution_count": 15,
   "metadata": {},
   "outputs": [],
   "source": [
    "import pylibxc\n",
    "import numpy as np\n",
    "import pandas as pd\n",
    "from pathlib import Path\n",
    "\n",
    "file_path = Path('negativity/gga_c.csv')\n",
    "df = pd.read_csv(file_path, na_values='---')\n",
    "\n",
    "file = file_path.stem\n",
    "xc_col = file.replace('_c','').upper() + ' corr.'\n",
    "df.rename(columns={'xc':xc_col}, inplace=True)\n"
   ]
  },
  {
   "cell_type": "code",
   "execution_count": 16,
   "metadata": {},
   "outputs": [
    {
     "data": {
      "text/plain": [
       "<function TextIOWrapper.close()>"
      ]
     },
     "execution_count": 16,
     "metadata": {},
     "output_type": "execute_result"
    }
   ],
   "source": [
    "latex_parse = ['@article{', '@article {', '@inproceedings{', '@Inbook{']\n",
    "\n",
    "bib_file = []\n",
    "ref_names = []\n",
    "for xc in df[xc_col]:\n",
    "  func_c = pylibxc.LibXCFunctional(xc, \"polarized\")\n",
    "\n",
    "  ref_name='\\cite{'\n",
    "  for ref in func_c.get_bibtex():\n",
    "    bib_file.append(ref)\n",
    "    latex_cite = ref.splitlines()[0]\n",
    "    for repl in latex_parse:\n",
    "      latex_cite = latex_cite.replace(repl,'')\n",
    "    ref_name += latex_cite\n",
    "    \n",
    "  ref_name = ref_name[:-1] + '}' \n",
    "\n",
    "  ref_names.append(ref_name)\n",
    "\n",
    "df['Refs.'] = ref_names \n",
    "\n",
    "# write out bib file\n",
    "bib_file = \"\\n\".join(bib_file)\n",
    "out_file = Path(file_path.parent, file_path.name.replace('.csv','.bib'))\n",
    "f = open(out_file, \"w\")\n",
    "f.write(bib_file)\n",
    "f.close"
   ]
  },
  {
   "cell_type": "code",
   "execution_count": 17,
   "metadata": {},
   "outputs": [],
   "source": [
    "# format functional names\n",
    "df[xc_col] = df[xc_col].apply(lambda row: row.replace(file+'_','').replace('_','\\_'))\n",
    "\n",
    "# format columns\n",
    "for c in df.columns:\n",
    "  if 'range' in c:\n",
    "    df[c] = df[c].apply(lambda row: np.NaN if row is np.NaN else np.array(row[1:-1].split(', '), dtype=np.float64))\n",
    "    df[c] = df[c].apply(lambda row: np.around(row, decimals=4))\n",
    "\n",
    "df = df.fillna('---')"
   ]
  },
  {
   "cell_type": "code",
   "execution_count": 18,
   "metadata": {},
   "outputs": [
    {
     "name": "stdout",
     "output_type": "stream",
     "text": [
      "\\begin{tabular}{|c|c|c|c|c|l|}\n",
      "\\hline\n",
      "     GGA corr. &  satisfied condition? &      $r_s$ range &        $s$ range & $\\zeta$ range  &                                                          Refs. \\\\ \\hline\n",
      "         acgga &                  True &              --- &              --- &            --- &                        \\cite{Cancio2018_084116,Burke2014_4834} \\\\ \\hline\n",
      "        acggap &                  True &              --- &              --- &            --- &                        \\cite{Cancio2018_084116,Burke2014_4834} \\\\ \\hline\n",
      "          am05 &                  True &              --- &              --- &            --- &                 \\cite{Armiento2005_085108,Mattsson2008_084714} \\\\ \\hline\n",
      "          apbe &                  True &              --- &              --- &            --- &                                   \\cite{Constantin2011_186406} \\\\ \\hline\n",
      "           bmk &                 False &    [0.0001, 5.0] &       [0.0, 5.0] &     [0.0, 1.0] &                                          \\cite{Boese2004_3405} \\\\ \\hline\n",
      "          ccdf &                  True &              --- &              --- &            --- &                                      \\cite{Margraf2019_244116} \\\\ \\hline\n",
      "      chachiyo &                  True &              --- &              --- &            --- &                                     \\cite{Chachiyo2020_112669} \\\\ \\hline\n",
      "           cs1 &                 False &    [0.0001, 5.0] &    [1.5331, 5.0] &     [0.0, 1.0] &                          \\cite{Handy2002_5411,Proynov2006_436} \\\\ \\hline\n",
      "          ft97 &                  True &              --- &              --- &            --- &                         \\cite{Filatov1997_603,Filatov1997_847} \\\\ \\hline\n",
      "           gam &                 False &    [0.0001, 5.0] &    [0.2505, 5.0] &     [0.0, 1.0] &                                            \\cite{Yu2015_12146} \\\\ \\hline\n",
      "          gapc &                 False & [0.0001, 0.1681] &    [0.6914, 5.0] &     [0.0, 1.0] &                                        \\cite{Fabiano2014_2016} \\\\ \\hline\n",
      "        gaploc &                 False & [0.0031, 0.1701] &    [0.4509, 5.0] &  [0.0303, 1.0] &                                        \\cite{Fabiano2014_2016} \\\\ \\hline\n",
      "       hcth\\_a &                 False &    [0.0001, 5.0] &    [2.1443, 5.0] &  [0.0, 0.9495] &                                      \\cite{Hamprecht1998_6264} \\\\ \\hline\n",
      "hyb\\_tau\\_hcth &                 False &    [0.0001, 5.0] &    [1.5431, 5.0] &  [0.0, 0.9596] &                                          \\cite{Boese2002_9559} \\\\ \\hline\n",
      "            lm &                  True &              --- &              --- &            --- &                             \\cite{Langreth1981_446,Hu1985_391} \\\\ \\hline\n",
      "           lyp &                 False &    [0.0001, 5.0] &    [1.7435, 5.0] &  [0.0, 0.9899] &                            \\cite{Lee1988_785,Miehlich1989_200} \\\\ \\hline\n",
      "          lypr &                 False & [0.0001, 3.3837] &    [1.7535, 5.0] &  [0.0, 0.9899] &                                             \\cite{Ai2021_1207} \\\\ \\hline\n",
      "         mggac &                  True &              --- &              --- &            --- &                                        \\cite{Patra2019_155140} \\\\ \\hline\n",
      "           n12 &                  True &              --- &              --- &            --- &                                       \\cite{Peverati2012_2310} \\\\ \\hline\n",
      "       n12\\_sx &                 False &    [0.0001, 5.0] &    [0.9319, 5.0] &     [0.0, 1.0] &                                      \\cite{Peverati2012_16187} \\\\ \\hline\n",
      "       op\\_b88 &                  True &              --- &              --- &            --- &                                       \\cite{Tsuneda1999_10664} \\\\ \\hline\n",
      "       op\\_g96 &                  True &              --- &              --- &            --- &                      \\cite{Tsuneda1999_10664,Tsuneda1999_5656} \\\\ \\hline\n",
      "       op\\_pbe &                  True &              --- &              --- &            --- &                      \\cite{Tsuneda1999_10664,Tsuneda1999_5656} \\\\ \\hline\n",
      "      op\\_pw91 &                  True &              --- &              --- &            --- &                      \\cite{Tsuneda1999_10664,Tsuneda1999_5656} \\\\ \\hline\n",
      "          optc &                 False & [0.0001, 0.0001] & [0.0401, 0.2705] &  [0.0, 0.9899] &                                           \\cite{Cohen2001_607} \\\\ \\hline\n",
      "    op\\_xalpha &                  True &              --- &              --- &            --- &                      \\cite{Tsuneda1999_10664,Tsuneda1999_5656} \\\\ \\hline\n",
      "           p86 &                 False &    [0.2331, 5.0] &    [0.8918, 5.0] &     [0.0, 1.0] &                                         \\cite{Perdew1986_8822} \\\\ \\hline\n",
      "       p86\\_ft &                 False &    [0.2341, 5.0] &    [0.8918, 5.0] &     [0.0, 1.0] &                                         \\cite{Perdew1986_8822} \\\\ \\hline\n",
      "        p86vwn &                 False &    [0.2251, 5.0] &    [0.8818, 5.0] &     [0.0, 1.0] &                                         \\cite{Perdew1986_8822} \\\\ \\hline\n",
      "    p86vwn\\_ft &                 False &    [0.2251, 5.0] &    [0.8818, 5.0] &     [0.0, 1.0] &                                         \\cite{Perdew1986_8822} \\\\ \\hline\n",
      "           pbe &                  True &              --- &              --- &            --- &                     \\cite{Perdew1996_3865,Perdew1996_3865_err} \\\\ \\hline\n",
      "         pbefe &                  True &              --- &              --- &            --- &                                          \\cite{Perez2015_3844} \\\\ \\hline\n",
      "        pbeint &                  True &              --- &              --- &            --- &                                      \\cite{Fabiano2010_113104} \\\\ \\hline\n",
      "     pbe\\_jrgx &                  True &              --- &              --- &            --- &                                      \\cite{Pedroza2009_201106} \\\\ \\hline\n",
      "        pbeloc &                  True &              --- &              --- &            --- &                                   \\cite{Constantin2012_035130} \\\\ \\hline\n",
      "      pbe\\_mol &                  True &              --- &              --- &            --- &                                     \\cite{delCampo2012_104108} \\\\ \\hline\n",
      "      pbe\\_sol &                  True &              --- &              --- &            --- &                                       \\cite{Perdew2008_136406} \\\\ \\hline\n",
      "      pbe\\_vwn &                  True &              --- &              --- &            --- & \\cite{Kraisler2010_042516,Perdew1996_3865,Perdew1996_3865_err} \\\\ \\hline\n",
      "          pw91 &                 False & [0.0001, 0.0001] & [0.0401, 0.2806] &     [0.0, 1.0] &          \\cite{Perdew1991,Perdew1992_6671,Perdew1992_6671_err} \\\\ \\hline\n",
      "           q2d &                  True &              --- &              --- &            --- &                                       \\cite{Chiodo2012_126402} \\\\ \\hline\n",
      "       regtpss &                  True &              --- &              --- &            --- &                                       \\cite{Perdew2009_026403} \\\\ \\hline\n",
      "        revtca &                  True &              --- &              --- &            --- &                                        \\cite{Tognetti2008_536} \\\\ \\hline\n",
      "          rge2 &                  True &              --- &              --- &            --- &                                      \\cite{Ruzsinszky2009_763} \\\\ \\hline\n",
      "      scan\\_e0 &                  True &              --- &              --- &            --- &                                          \\cite{Sun2015_036402} \\\\ \\hline\n",
      "           sg4 &                  True &              --- &              --- &            --- &                                   \\cite{Constantin2016_045126} \\\\ \\hline\n",
      "       sogga11 &                  True &              --- &              --- &            --- &                                       \\cite{Peverati2011_1991} \\\\ \\hline\n",
      "    sogga11\\_x &                  True &              --- &              --- &            --- &                                     \\cite{Peverati2011_191102} \\\\ \\hline\n",
      "          spbe &                  True &              --- &              --- &            --- &                                        \\cite{Swart2009_094103} \\\\ \\hline\n",
      "     tau\\_hcth &                 False &    [0.0001, 5.0] &    [1.6132, 5.0] &  [0.0, 0.9596] &                                          \\cite{Boese2002_9559} \\\\ \\hline\n",
      "           tca &                  True &              --- &              --- &            --- &                                     \\cite{Tognetti2008_034101} \\\\ \\hline\n",
      "       tm\\_lyp &                 False &    [0.0001, 5.0] &    [1.5832, 5.0] &  [0.0, 0.9899] &                                      \\cite{Thakkar2009_134109} \\\\ \\hline\n",
      "       tm\\_pbe &                  True &              --- &              --- &            --- &                                      \\cite{Thakkar2009_134109} \\\\ \\hline\n",
      "           w94 &                  True &              --- &              --- &            --- &                                          \\cite{Wilson1994_337} \\\\ \\hline\n",
      "           wi0 &                 False &    [0.0001, 5.0] &    [1.9339, 5.0] &     [0.0, 1.0] &                                          \\cite{Wilson1998_523} \\\\ \\hline\n",
      "            wi &                 False &    [0.0001, 5.0] &     [0.501, 5.0] &     [0.0, 1.0] &                                          \\cite{Wilson1998_523} \\\\ \\hline\n",
      "            wl &                 False &    [0.0001, 5.0] &     [2.024, 5.0] &  [0.0, 0.9899] &                                        \\cite{Wilson1990_12930} \\\\ \\hline\n",
      "          xpbe &                  True &              --- &              --- &            --- &                                             \\cite{Xu2004_4068} \\\\ \\hline\n",
      "       zpbeint &                  True &              --- &              --- &            --- &                                   \\cite{Constantin2011_233103} \\\\ \\hline\n",
      "       zpbesol &                  True &              --- &              --- &            --- &                                   \\cite{Constantin2011_233103} \\\\ \\hline\n",
      "      zvpbeint &                  True &              --- &              --- &            --- &                                   \\cite{Constantin2012_194105} \\\\ \\hline\n",
      "      zvpbeloc &                  True &              --- &              --- &            --- &                                         \\cite{Fabiano2015_122} \\\\ \\hline\n",
      "      zvpbesol &                  True &              --- &              --- &            --- &                                   \\cite{Constantin2012_194105} \\\\ \\hline\n",
      "\\end{tabular}\n"
     ]
    }
   ],
   "source": [
    "with pd.option_context(\"max_colwidth\", 1000):\n",
    "    latex = df.to_latex(index=False, escape=False, column_format=(len(df.columns)-1)*'|c'+ '|l|')\n",
    "\n",
    "# horizontal line sep\n",
    "latex = latex.replace(\"\\\\\\n\", \"\\\\ \\hline\\n\").replace('\\\\toprule','\\\\hline')\n",
    "\n",
    "latex_list = latex.splitlines()\n",
    "latex=[]\n",
    "for line in latex_list:\n",
    "  if '\\\\toprule' in line or '\\\\midrule' in line or '\\\\bottomrule' in line:\n",
    "    continue\n",
    "  else:\n",
    "    latex.append(line)\n",
    "\n",
    "\n",
    "\n",
    "latex = \"\\n\".join(latex)\n",
    "\n",
    "out_file = Path(file_path.parent, file_path.name.replace('.csv','.tex'))\n",
    "f = open(out_file, \"w\")\n",
    "f.write(latex)\n",
    "f.close\n",
    "\n",
    "print(latex)"
   ]
  },
  {
   "cell_type": "code",
   "execution_count": 19,
   "metadata": {},
   "outputs": [],
   "source": [
    "# save updated \n",
    "out_file = Path(file_path.parent, file_path.name.replace('.csv','_table.csv'))\n",
    "df.to_csv(out_file, index=None)"
   ]
  }
 ],
 "metadata": {
  "interpreter": {
   "hash": "31f2aee4e71d21fbe5cf8b01ff0e069b9275f58929596ceb00d14d90e3e16cd6"
  },
  "kernelspec": {
   "display_name": "Python 3.6.9 64-bit",
   "language": "python",
   "name": "python3"
  },
  "language_info": {
   "codemirror_mode": {
    "name": "ipython",
    "version": 3
   },
   "file_extension": ".py",
   "mimetype": "text/x-python",
   "name": "python",
   "nbconvert_exporter": "python",
   "pygments_lexer": "ipython3",
   "version": "3.8.10"
  },
  "orig_nbformat": 4
 },
 "nbformat": 4,
 "nbformat_minor": 2
}
