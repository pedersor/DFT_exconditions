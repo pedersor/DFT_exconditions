{
 "cells": [
  {
   "cell_type": "code",
   "execution_count": 1,
   "metadata": {},
   "outputs": [],
   "source": [
    "import sys\n",
    "\n",
    "import pylibxc\n",
    "import numpy as np\n",
    "import matplotlib.pyplot as plt\n",
    "\n",
    "def get_density(r_s):\n",
    "  return 3/(4*np.pi*(r_s ** 3))\n",
    "\n",
    "def hartree_to_mRy(energy):\n",
    "  return energy * 2 * 1000\n",
    "\n",
    "def get_eps_x_unif(n):\n",
    "  return -(3/(4*np.pi))*((n*3*np.pi**2)**(1/3))\n",
    "\n",
    "def get_grad_n(s, n):\n",
    "  return s*((n**(4/3))*2*(3*np.pi**2)**(1/3))\n",
    "\n",
    "def get_up_dn_density(n, zeta):\n",
    "  n = np.expand_dims(n.flatten(), axis=1)\n",
    "  zeta = np.expand_dims(zeta.flatten(), axis=1)\n",
    "\n",
    "  up_density = ((zeta * n) + n)/2\n",
    "  dn_density = (n - (zeta * n))/2\n",
    "  return np.concatenate((up_density, dn_density), axis=1)\n",
    "\n",
    "def get_tau(alpha, grad_n, n):\n",
    "  tau_w = (grad_n**2) / (8*n)\n",
    "  tau_unif = (3/10)*((3*np.pi)**(2/3))*(n**(5/3))\n",
    "  \n",
    "  return alpha*tau_unif +tau_w\n",
    "\n",
    "eps_x = eps_c = 'zk'\n"
   ]
  },
  {
   "cell_type": "code",
   "execution_count": 15,
   "metadata": {},
   "outputs": [],
   "source": [
    "# polarized PBE\n",
    "\n",
    "# build functional\n",
    "pbe_x = pylibxc.LibXCFunctional(\"gga_x_pbe\", \"polarized\")\n",
    "pbe_c = pylibxc.LibXCFunctional(\"gga_c_pbe\", \"polarized\")\n",
    "\n",
    "r_s = np.array([0.5, 1, 2, 3, 4, 5, 6, 10, 20, 40, 60, 100])\n",
    "#r_s = np.array([0.01, 2, 10, 1000])\n",
    "r_s = np.linspace(0.1, 100, num=500)\n",
    "\n",
    "\n",
    "s = np.linspace(0, 5)\n",
    "\n",
    "zeta = np.array([1])\n",
    "zeta = np.linspace(0, 1)\n",
    "\n",
    "m_r_s, m_s, m_zeta = np.meshgrid(r_s, s, zeta, indexing='ij')\n",
    "\n",
    "m_n = get_density(m_r_s)\n",
    "m_sigma = get_grad_n(m_s, m_n)\n",
    "m_eps_x_unif = get_eps_x_unif(m_n)\n",
    "m_n_spin = get_up_dn_density(m_n, m_zeta)\n",
    "\n",
    "# create input\n",
    "inp = {}\n",
    "\n",
    "# density\n",
    "inp[\"rho\"] = m_n_spin\n",
    "\n",
    "# (| \\nabla n |^2, 0, 0) to follow libxc convention\n",
    "sigma = np.expand_dims(m_sigma.flatten()**2, axis=1)\n",
    "sigma = np.concatenate((sigma, np.zeros_like(sigma), np.zeros_like(sigma)), axis=1)\n",
    "inp[\"sigma\"] = sigma\n"
   ]
  },
  {
   "cell_type": "code",
   "execution_count": 16,
   "metadata": {},
   "outputs": [],
   "source": [
    "# results in a.u.\n",
    "pbe_x_res = pbe_x.compute(inp)\n",
    "pbe_c_res = pbe_c.compute(inp)"
   ]
  },
  {
   "cell_type": "code",
   "execution_count": 17,
   "metadata": {},
   "outputs": [],
   "source": [
    "# processing \n",
    "\n",
    "pbe_x_res[eps_x] = np.squeeze(pbe_x_res[eps_x])\n",
    "pbe_c_res[eps_c] = np.squeeze(pbe_c_res[eps_c])\n",
    "\n",
    "pbe_xc_res = pbe_c_res[eps_c] #+ pbe_x_res[eps_x]\n",
    "pbe_xc_res = pbe_xc_res.reshape(m_r_s.shape)\n",
    "\n",
    "# F_xc\n",
    "pbe_xc_res /= m_eps_x_unif"
   ]
  },
  {
   "cell_type": "code",
   "execution_count": 18,
   "metadata": {},
   "outputs": [
    {
     "name": "stdout",
     "output_type": "stream",
     "text": [
      "min_diff =  4.76304702078361e-06\n"
     ]
    }
   ],
   "source": [
    "# check all results\n",
    "# F_c(r_s', ...) > F_c(r_s, ...) for r_s' > r_s\n",
    "\n",
    "min_diff = np.amin(np.diff(pbe_xc_res, axis=0))\n",
    "print('min_diff = ', min_diff)\n",
    "\n",
    "# if min_diff > 0, then condition is satisified"
   ]
  },
  {
   "cell_type": "code",
   "execution_count": 6,
   "metadata": {},
   "outputs": [
    {
     "data": {
      "text/plain": [
       "(0.0, 3.0)"
      ]
     },
     "execution_count": 6,
     "metadata": {},
     "output_type": "execute_result"
    },
    {
     "data": {
      "image/png": "[encoded data removed]",
      "text/plain": [
       "<Figure size 432x288 with 1 Axes>"
      ]
     },
     "metadata": {
      "needs_background": "light"
     },
     "output_type": "display_data"
    }
   ],
   "source": [
    "# plotting\n",
    "# permute axes for plots\n",
    "perm = [1, 0]\n",
    "\n",
    "m_s = np.squeeze(m_s)\n",
    "pbe_xc_res = np.squeeze(pbe_xc_res)\n",
    "\n",
    "plt.plot(np.transpose(m_s, perm), np.transpose(pbe_xc_res, perm))\n",
    "\n",
    "plt.ylim(0, 1)\n",
    "\n",
    "plt.xlim(0, 3)"
   ]
  }
 ],
 "metadata": {
  "interpreter": {
   "hash": "31f2aee4e71d21fbe5cf8b01ff0e069b9275f58929596ceb00d14d90e3e16cd6"
  },
  "kernelspec": {
   "display_name": "Python 3.6.9 64-bit",
   "language": "python",
   "name": "python3"
  },
  "language_info": {
   "codemirror_mode": {
    "name": "ipython",
    "version": 3
   },
   "file_extension": ".py",
   "mimetype": "text/x-python",
   "name": "python",
   "nbconvert_exporter": "python",
   "pygments_lexer": "ipython3",
   "version": "3.6.9"
  },
  "orig_nbformat": 4
 },
 "nbformat": 4,
 "nbformat_minor": 2
}
