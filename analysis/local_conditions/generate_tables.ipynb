{
 "cells": [
  {
   "attachments": {},
   "cell_type": "markdown",
   "metadata": {},
   "source": [
    "Load in data csv and specify output folder"
   ]
  },
  {
   "cell_type": "code",
   "execution_count": 4,
   "metadata": {},
   "outputs": [],
   "source": [
    "import sys\n",
    "from pathlib import Path\n",
    "\n",
    "import pylibxc\n",
    "import numpy as np\n",
    "import pandas as pd\n",
    "\n",
    "# path/to/data.csv\n",
    "data_path = Path('data/comprehensive_search.csv')\n",
    "# folder for outputs\n",
    "out_path = Path('out')\n",
    "out_path.mkdir(exist_ok=True, parents=True)\n",
    "df = pd.read_csv(data_path)"
   ]
  },
  {
   "cell_type": "code",
   "execution_count": 6,
   "metadata": {},
   "outputs": [
    {
     "ename": "FileNotFoundError",
     "evalue": "[Errno 2] No such file or directory: 'sub_search.csv'",
     "output_type": "error",
     "traceback": [
      "\u001b[0;31m---------------------------------------------------------------------------\u001b[0m",
      "\u001b[0;31mFileNotFoundError\u001b[0m                         Traceback (most recent call last)",
      "Cell \u001b[0;32mIn[6], line 6\u001b[0m\n\u001b[1;32m      3\u001b[0m \u001b[39mif\u001b[39;00m \u001b[39mnot\u001b[39;00m update_w_subtable:\n\u001b[1;32m      4\u001b[0m   exit\n\u001b[0;32m----> 6\u001b[0m sub_df \u001b[39m=\u001b[39m pd\u001b[39m.\u001b[39;49mread_csv(\u001b[39m'\u001b[39;49m\u001b[39msub_search.csv\u001b[39;49m\u001b[39m'\u001b[39;49m)\n\u001b[1;32m      7\u001b[0m sub_df \u001b[39m=\u001b[39m sub_df\u001b[39m.\u001b[39mset_index(df\u001b[39m.\u001b[39mloc[df[\u001b[39m'\u001b[39m\u001b[39mxc id\u001b[39m\u001b[39m'\u001b[39m]\u001b[39m.\u001b[39misin(sub_df[\u001b[39m'\u001b[39m\u001b[39mxc id\u001b[39m\u001b[39m'\u001b[39m]),:]\u001b[39m.\u001b[39mindex)\n\u001b[1;32m      8\u001b[0m df\u001b[39m.\u001b[39mupdate(sub_df)\n",
      "File \u001b[0;32m~/.local/lib/python3.8/site-packages/pandas/util/_decorators.py:211\u001b[0m, in \u001b[0;36mdeprecate_kwarg.<locals>._deprecate_kwarg.<locals>.wrapper\u001b[0;34m(*args, **kwargs)\u001b[0m\n\u001b[1;32m    209\u001b[0m     \u001b[39melse\u001b[39;00m:\n\u001b[1;32m    210\u001b[0m         kwargs[new_arg_name] \u001b[39m=\u001b[39m new_arg_value\n\u001b[0;32m--> 211\u001b[0m \u001b[39mreturn\u001b[39;00m func(\u001b[39m*\u001b[39;49margs, \u001b[39m*\u001b[39;49m\u001b[39m*\u001b[39;49mkwargs)\n",
      "File \u001b[0;32m~/.local/lib/python3.8/site-packages/pandas/util/_decorators.py:331\u001b[0m, in \u001b[0;36mdeprecate_nonkeyword_arguments.<locals>.decorate.<locals>.wrapper\u001b[0;34m(*args, **kwargs)\u001b[0m\n\u001b[1;32m    325\u001b[0m \u001b[39mif\u001b[39;00m \u001b[39mlen\u001b[39m(args) \u001b[39m>\u001b[39m num_allow_args:\n\u001b[1;32m    326\u001b[0m     warnings\u001b[39m.\u001b[39mwarn(\n\u001b[1;32m    327\u001b[0m         msg\u001b[39m.\u001b[39mformat(arguments\u001b[39m=\u001b[39m_format_argument_list(allow_args)),\n\u001b[1;32m    328\u001b[0m         \u001b[39mFutureWarning\u001b[39;00m,\n\u001b[1;32m    329\u001b[0m         stacklevel\u001b[39m=\u001b[39mfind_stack_level(),\n\u001b[1;32m    330\u001b[0m     )\n\u001b[0;32m--> 331\u001b[0m \u001b[39mreturn\u001b[39;00m func(\u001b[39m*\u001b[39;49margs, \u001b[39m*\u001b[39;49m\u001b[39m*\u001b[39;49mkwargs)\n",
      "File \u001b[0;32m~/.local/lib/python3.8/site-packages/pandas/io/parsers/readers.py:950\u001b[0m, in \u001b[0;36mread_csv\u001b[0;34m(filepath_or_buffer, sep, delimiter, header, names, index_col, usecols, squeeze, prefix, mangle_dupe_cols, dtype, engine, converters, true_values, false_values, skipinitialspace, skiprows, skipfooter, nrows, na_values, keep_default_na, na_filter, verbose, skip_blank_lines, parse_dates, infer_datetime_format, keep_date_col, date_parser, dayfirst, cache_dates, iterator, chunksize, compression, thousands, decimal, lineterminator, quotechar, quoting, doublequote, escapechar, comment, encoding, encoding_errors, dialect, error_bad_lines, warn_bad_lines, on_bad_lines, delim_whitespace, low_memory, memory_map, float_precision, storage_options)\u001b[0m\n\u001b[1;32m    935\u001b[0m kwds_defaults \u001b[39m=\u001b[39m _refine_defaults_read(\n\u001b[1;32m    936\u001b[0m     dialect,\n\u001b[1;32m    937\u001b[0m     delimiter,\n\u001b[0;32m   (...)\u001b[0m\n\u001b[1;32m    946\u001b[0m     defaults\u001b[39m=\u001b[39m{\u001b[39m\"\u001b[39m\u001b[39mdelimiter\u001b[39m\u001b[39m\"\u001b[39m: \u001b[39m\"\u001b[39m\u001b[39m,\u001b[39m\u001b[39m\"\u001b[39m},\n\u001b[1;32m    947\u001b[0m )\n\u001b[1;32m    948\u001b[0m kwds\u001b[39m.\u001b[39mupdate(kwds_defaults)\n\u001b[0;32m--> 950\u001b[0m \u001b[39mreturn\u001b[39;00m _read(filepath_or_buffer, kwds)\n",
      "File \u001b[0;32m~/.local/lib/python3.8/site-packages/pandas/io/parsers/readers.py:605\u001b[0m, in \u001b[0;36m_read\u001b[0;34m(filepath_or_buffer, kwds)\u001b[0m\n\u001b[1;32m    602\u001b[0m _validate_names(kwds\u001b[39m.\u001b[39mget(\u001b[39m\"\u001b[39m\u001b[39mnames\u001b[39m\u001b[39m\"\u001b[39m, \u001b[39mNone\u001b[39;00m))\n\u001b[1;32m    604\u001b[0m \u001b[39m# Create the parser.\u001b[39;00m\n\u001b[0;32m--> 605\u001b[0m parser \u001b[39m=\u001b[39m TextFileReader(filepath_or_buffer, \u001b[39m*\u001b[39;49m\u001b[39m*\u001b[39;49mkwds)\n\u001b[1;32m    607\u001b[0m \u001b[39mif\u001b[39;00m chunksize \u001b[39mor\u001b[39;00m iterator:\n\u001b[1;32m    608\u001b[0m     \u001b[39mreturn\u001b[39;00m parser\n",
      "File \u001b[0;32m~/.local/lib/python3.8/site-packages/pandas/io/parsers/readers.py:1442\u001b[0m, in \u001b[0;36mTextFileReader.__init__\u001b[0;34m(self, f, engine, **kwds)\u001b[0m\n\u001b[1;32m   1439\u001b[0m     \u001b[39mself\u001b[39m\u001b[39m.\u001b[39moptions[\u001b[39m\"\u001b[39m\u001b[39mhas_index_names\u001b[39m\u001b[39m\"\u001b[39m] \u001b[39m=\u001b[39m kwds[\u001b[39m\"\u001b[39m\u001b[39mhas_index_names\u001b[39m\u001b[39m\"\u001b[39m]\n\u001b[1;32m   1441\u001b[0m \u001b[39mself\u001b[39m\u001b[39m.\u001b[39mhandles: IOHandles \u001b[39m|\u001b[39m \u001b[39mNone\u001b[39;00m \u001b[39m=\u001b[39m \u001b[39mNone\u001b[39;00m\n\u001b[0;32m-> 1442\u001b[0m \u001b[39mself\u001b[39m\u001b[39m.\u001b[39m_engine \u001b[39m=\u001b[39m \u001b[39mself\u001b[39;49m\u001b[39m.\u001b[39;49m_make_engine(f, \u001b[39mself\u001b[39;49m\u001b[39m.\u001b[39;49mengine)\n",
      "File \u001b[0;32m~/.local/lib/python3.8/site-packages/pandas/io/parsers/readers.py:1735\u001b[0m, in \u001b[0;36mTextFileReader._make_engine\u001b[0;34m(self, f, engine)\u001b[0m\n\u001b[1;32m   1733\u001b[0m     \u001b[39mif\u001b[39;00m \u001b[39m\"\u001b[39m\u001b[39mb\u001b[39m\u001b[39m\"\u001b[39m \u001b[39mnot\u001b[39;00m \u001b[39min\u001b[39;00m mode:\n\u001b[1;32m   1734\u001b[0m         mode \u001b[39m+\u001b[39m\u001b[39m=\u001b[39m \u001b[39m\"\u001b[39m\u001b[39mb\u001b[39m\u001b[39m\"\u001b[39m\n\u001b[0;32m-> 1735\u001b[0m \u001b[39mself\u001b[39m\u001b[39m.\u001b[39mhandles \u001b[39m=\u001b[39m get_handle(\n\u001b[1;32m   1736\u001b[0m     f,\n\u001b[1;32m   1737\u001b[0m     mode,\n\u001b[1;32m   1738\u001b[0m     encoding\u001b[39m=\u001b[39;49m\u001b[39mself\u001b[39;49m\u001b[39m.\u001b[39;49moptions\u001b[39m.\u001b[39;49mget(\u001b[39m\"\u001b[39;49m\u001b[39mencoding\u001b[39;49m\u001b[39m\"\u001b[39;49m, \u001b[39mNone\u001b[39;49;00m),\n\u001b[1;32m   1739\u001b[0m     compression\u001b[39m=\u001b[39;49m\u001b[39mself\u001b[39;49m\u001b[39m.\u001b[39;49moptions\u001b[39m.\u001b[39;49mget(\u001b[39m\"\u001b[39;49m\u001b[39mcompression\u001b[39;49m\u001b[39m\"\u001b[39;49m, \u001b[39mNone\u001b[39;49;00m),\n\u001b[1;32m   1740\u001b[0m     memory_map\u001b[39m=\u001b[39;49m\u001b[39mself\u001b[39;49m\u001b[39m.\u001b[39;49moptions\u001b[39m.\u001b[39;49mget(\u001b[39m\"\u001b[39;49m\u001b[39mmemory_map\u001b[39;49m\u001b[39m\"\u001b[39;49m, \u001b[39mFalse\u001b[39;49;00m),\n\u001b[1;32m   1741\u001b[0m     is_text\u001b[39m=\u001b[39;49mis_text,\n\u001b[1;32m   1742\u001b[0m     errors\u001b[39m=\u001b[39;49m\u001b[39mself\u001b[39;49m\u001b[39m.\u001b[39;49moptions\u001b[39m.\u001b[39;49mget(\u001b[39m\"\u001b[39;49m\u001b[39mencoding_errors\u001b[39;49m\u001b[39m\"\u001b[39;49m, \u001b[39m\"\u001b[39;49m\u001b[39mstrict\u001b[39;49m\u001b[39m\"\u001b[39;49m),\n\u001b[1;32m   1743\u001b[0m     storage_options\u001b[39m=\u001b[39;49m\u001b[39mself\u001b[39;49m\u001b[39m.\u001b[39;49moptions\u001b[39m.\u001b[39;49mget(\u001b[39m\"\u001b[39;49m\u001b[39mstorage_options\u001b[39;49m\u001b[39m\"\u001b[39;49m, \u001b[39mNone\u001b[39;49;00m),\n\u001b[1;32m   1744\u001b[0m )\n\u001b[1;32m   1745\u001b[0m \u001b[39massert\u001b[39;00m \u001b[39mself\u001b[39m\u001b[39m.\u001b[39mhandles \u001b[39mis\u001b[39;00m \u001b[39mnot\u001b[39;00m \u001b[39mNone\u001b[39;00m\n\u001b[1;32m   1746\u001b[0m f \u001b[39m=\u001b[39m \u001b[39mself\u001b[39m\u001b[39m.\u001b[39mhandles\u001b[39m.\u001b[39mhandle\n",
      "File \u001b[0;32m~/.local/lib/python3.8/site-packages/pandas/io/common.py:856\u001b[0m, in \u001b[0;36mget_handle\u001b[0;34m(path_or_buf, mode, encoding, compression, memory_map, is_text, errors, storage_options)\u001b[0m\n\u001b[1;32m    851\u001b[0m \u001b[39melif\u001b[39;00m \u001b[39misinstance\u001b[39m(handle, \u001b[39mstr\u001b[39m):\n\u001b[1;32m    852\u001b[0m     \u001b[39m# Check whether the filename is to be opened in binary mode.\u001b[39;00m\n\u001b[1;32m    853\u001b[0m     \u001b[39m# Binary mode does not support 'encoding' and 'newline'.\u001b[39;00m\n\u001b[1;32m    854\u001b[0m     \u001b[39mif\u001b[39;00m ioargs\u001b[39m.\u001b[39mencoding \u001b[39mand\u001b[39;00m \u001b[39m\"\u001b[39m\u001b[39mb\u001b[39m\u001b[39m\"\u001b[39m \u001b[39mnot\u001b[39;00m \u001b[39min\u001b[39;00m ioargs\u001b[39m.\u001b[39mmode:\n\u001b[1;32m    855\u001b[0m         \u001b[39m# Encoding\u001b[39;00m\n\u001b[0;32m--> 856\u001b[0m         handle \u001b[39m=\u001b[39m \u001b[39mopen\u001b[39;49m(\n\u001b[1;32m    857\u001b[0m             handle,\n\u001b[1;32m    858\u001b[0m             ioargs\u001b[39m.\u001b[39;49mmode,\n\u001b[1;32m    859\u001b[0m             encoding\u001b[39m=\u001b[39;49mioargs\u001b[39m.\u001b[39;49mencoding,\n\u001b[1;32m    860\u001b[0m             errors\u001b[39m=\u001b[39;49merrors,\n\u001b[1;32m    861\u001b[0m             newline\u001b[39m=\u001b[39;49m\u001b[39m\"\u001b[39;49m\u001b[39m\"\u001b[39;49m,\n\u001b[1;32m    862\u001b[0m         )\n\u001b[1;32m    863\u001b[0m     \u001b[39melse\u001b[39;00m:\n\u001b[1;32m    864\u001b[0m         \u001b[39m# Binary mode\u001b[39;00m\n\u001b[1;32m    865\u001b[0m         handle \u001b[39m=\u001b[39m \u001b[39mopen\u001b[39m(handle, ioargs\u001b[39m.\u001b[39mmode)\n",
      "\u001b[0;31mFileNotFoundError\u001b[0m: [Errno 2] No such file or directory: 'sub_search.csv'"
     ]
    }
   ],
   "source": [
    "# optional: update an existing table with subtable\n",
    "update_w_subtable = False\n",
    "if not update_w_subtable:\n",
    "  # Skip\n",
    "\n",
    "sub_df = pd.read_csv('sub_search.csv')\n",
    "sub_df = sub_df.set_index(df.loc[df['xc id'].isin(sub_df['xc id']),:].index)\n",
    "df.update(sub_df)\n",
    "\n",
    "# optional: save to csv\n",
    "# df.to_csv(data_path, index=False)"
   ]
  },
  {
   "cell_type": "markdown",
   "metadata": {},
   "source": [
    "Generate bibtex file and references for functionals"
   ]
  },
  {
   "cell_type": "code",
   "execution_count": null,
   "metadata": {},
   "outputs": [
    {
     "name": "stdout",
     "output_type": "stream",
     "text": [
      "wrote file:  out/comprehensive_search.bib\n"
     ]
    }
   ],
   "source": [
    "import re\n",
    "\n",
    "bib_file = []\n",
    "ref_names = []\n",
    "for xc in df['xc id']:\n",
    "  \n",
    "  func = pylibxc.LibXCFunctional(xc, \"polarized\")  \n",
    "  ref_name='\\cite{'\n",
    "  for ref in func.get_bibtex():\n",
    "    \n",
    "    latex_cite = ref.splitlines()[0]\n",
    "    # get latex cite name by removing the following prefixes\n",
    "    # like @article{, @inproceedings{, @Inbook{, @misc{, etc.\n",
    "    latex_cite = re.search(r'@.*{(.*)', latex_cite).group(1)  \n",
    "\n",
    "    if latex_cite == 'Bilc2008_165107,':\n",
    "        # fix for Bilc2008_165107 ref.\n",
    "        ref = ref.replace(r'{\\'{I}\\\\textasciitilde {n}iguez}', r'\\'I\\~niguez') \n",
    "\n",
    "    if ref not in bib_file:             \n",
    "      bib_file.append(ref)\n",
    "    \n",
    "    ref_name += latex_cite\n",
    "    \n",
    "  ref_name = ref_name[:-1] + '}' \n",
    "  ref_names.append(ref_name)\n",
    "\n",
    "df['Refs.'] = ref_names \n",
    "\n",
    "# write out bib file\n",
    "bib_file = \"\\n\".join(bib_file)\n",
    "out_file = out_path / data_path.name.replace('.csv','.bib')\n",
    "f = open(out_file, \"w\")\n",
    "f.write(bib_file)\n",
    "f.close()\n",
    "print('wrote file: ', out_file)\n"
   ]
  },
  {
   "cell_type": "markdown",
   "metadata": {},
   "source": [
    "Create latex tables"
   ]
  },
  {
   "cell_type": "code",
   "execution_count": null,
   "metadata": {},
   "outputs": [
    {
     "name": "stdout",
     "output_type": "stream",
     "text": [
      "wrote file:  out/comprehensive_search_GGA-0.tex\n",
      "wrote file:  out/comprehensive_search_GGA-1.tex\n",
      "wrote file:  out/comprehensive_search_MGGA-0.tex\n",
      "wrote file:  out/comprehensive_search_HYB_GGA-0.tex\n",
      "wrote file:  out/comprehensive_search_HYB_MGGA-0.tex\n"
     ]
    }
   ],
   "source": [
    "\n",
    "# max number of rows in each table (to account for page breaks)\n",
    "max_table_size=61\n",
    "\n",
    "table_header = {\n",
    "    'table_name': '',\n",
    "    'negativity_check': r'\\makecell[c]{$E\\C[n]$ \\\\ non-positivity}',\n",
    "    'deriv_lower_bd_check': r'\\makecell[c]{$E\\C[n\\g]$ uniform \\\\ scaling inequality}',\n",
    "    'deriv_upper_bd_check_1': r'\\makecell[c]{$T\\C[n]$ \\\\ upper bound}',\n",
    "    'second_deriv_check': r'\\makecell[c]{concavity of \\\\ $\\lambda^2 E\\c[n_{1/\\lambda}]$}',\n",
    "    'lieb_oxford_bd_check_Exc': r'\\makecell[c]{LO extension \\\\ to $E\\xc$}',\n",
    "    'lieb_oxford_bd_check_Uxc': r'\\makecell[c]{LO}',\n",
    "    \"deriv_upper_bd_check_2\": r'\\makecell[c]{conjecture: \\\\ $T_c \\leq -E_c$}',\n",
    "}\n",
    "\n",
    "# latex table captions\n",
    "captions = {\n",
    "    'GGA': 'GGA functionals: numerical assessment of corresponding local conditions.',\n",
    "    'MGGA': 'MGGA functionals: numerical assessment of corresponding local conditions.',\n",
    "    'HYB_GGA': 'Hybrid GGA functionals: numerical assessment of corresponding local conditions.',\n",
    "    'HYB_MGGA': 'Hybrid MGGA functionals: numerical assessment of corresponding local conditions.',\n",
    "}\n",
    "\n",
    "# create a more manageable dataframe to use for the printed table\n",
    "min_df = df[[\"xc label\", \"dfa type\", \"Refs.\", \"condition\", \"fraction violated\"]]\n",
    "# rearrange the dataframe to have the conditions as columns\n",
    "table_df = min_df.pivot_table(values='fraction violated', index=min_df['xc label'], columns='condition', aggfunc='first')\n",
    "table_df[\"table_name\"] = min_df.groupby('xc label').apply(lambda x: (x['xc label'] + \"~\" + x['Refs.']).iloc[0])\n",
    "table_df[\"dfa type\"] = min_df.groupby('xc label').apply(lambda x: x['dfa type'].iloc[0])\n",
    "\n",
    "sorted_cols = list(table_header)\n",
    "families = list(captions)\n",
    "for family in families:\n",
    "\n",
    "  tex_df = (table_df[table_df['dfa type'] == family]\n",
    "    .sort_values(by=['table_name']))\n",
    "  \n",
    "  # use scientific notation for entries less than 0.001\n",
    "  tex_df.loc[:, sorted_cols[1:]] = tex_df[sorted_cols[1:]].applymap(lambda x: '{:.0e}'.format(x) if 0 < x < 0.001 else x)\n",
    "\n",
    "  tex_df = (tex_df.reindex(sorted_cols, axis=1)\n",
    "    .rename(columns=table_header)\n",
    "    .replace(0, '0')\n",
    "    .fillna('---')\n",
    "  )\n",
    "  \n",
    "  # split numpy array where the maximum size of each subarray is 50\n",
    "  ranges = np.arange(max_table_size, tex_df.shape[0], max_table_size)\n",
    "  split_tex_dfs = np.array_split(tex_df, ranges)\n",
    "\n",
    "  for i, split_tex_df in enumerate(split_tex_dfs):\n",
    "    # only show 3 decimal places\n",
    "    tex_sty = split_tex_df.style.format(precision=3).hide(axis='index')\n",
    "    caption = captions[family]\n",
    "    latex = tex_sty.to_latex(\n",
    "        column_format='|l|' + (len(tex_sty.columns)-1)*'c|',\n",
    "        hrules=True,\n",
    "        caption=caption,\n",
    "    )\n",
    "    # make table and caption take up full width\n",
    "    latex = latex.replace('begin{table}', 'begin{table*}').replace('end{table}', 'end{table*}')\n",
    "\n",
    "    out_file = out_path / data_path.name.replace('.csv',f'_{family}-{i}.tex')\n",
    "    f = open(out_file, \"w\")\n",
    "    f.write(latex)\n",
    "    f.close()\n",
    "    print('wrote file: ', out_file)"
   ]
  }
 ],
 "metadata": {
  "kernelspec": {
   "display_name": "Python 3",
   "language": "python",
   "name": "python3"
  },
  "language_info": {
   "codemirror_mode": {
    "name": "ipython",
    "version": 3
   },
   "file_extension": ".py",
   "mimetype": "text/x-python",
   "name": "python",
   "nbconvert_exporter": "python",
   "pygments_lexer": "ipython3",
   "version": "3.8.0"
  },
  "orig_nbformat": 4,
  "vscode": {
   "interpreter": {
    "hash": "767d51c1340bd893661ea55ea3124f6de3c7a262a8b4abca0554b478b1e2ff90"
   }
  }
 },
 "nbformat": 4,
 "nbformat_minor": 2
}
