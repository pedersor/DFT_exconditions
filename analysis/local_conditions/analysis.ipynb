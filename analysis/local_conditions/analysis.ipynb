{
 "cells": [
  {
   "attachments": {},
   "cell_type": "markdown",
   "metadata": {},
   "source": [
    "Load in data csv and specify output folder"
   ]
  },
  {
   "cell_type": "code",
   "execution_count": 1,
   "metadata": {},
   "outputs": [],
   "source": [
    "from pathlib import Path\n",
    "\n",
    "import pylibxc\n",
    "import numpy as np\n",
    "import pandas as pd\n",
    "\n",
    "# path/to/data.csv\n",
    "data_path = Path('data/comprehensive_search.csv')\n",
    "# folder for outputs\n",
    "out_path = Path('out')\n",
    "out_path.mkdir(exist_ok=True, parents=True)\n",
    "df = pd.read_csv(data_path)"
   ]
  },
  {
   "cell_type": "markdown",
   "metadata": {},
   "source": [
    "Generate bibtex file and references for functionals"
   ]
  },
  {
   "cell_type": "code",
   "execution_count": 2,
   "metadata": {},
   "outputs": [
    {
     "name": "stdout",
     "output_type": "stream",
     "text": [
      "wrote file:  out/comprehensive_search.bib\n"
     ]
    }
   ],
   "source": [
    "import re\n",
    "\n",
    "bib_file = []\n",
    "ref_names = []\n",
    "is_combined_xc = []\n",
    "for xc in df['xc_id']:\n",
    "  \n",
    "  if '_xc_' in xc.lower():\n",
    "    combined_xc = True\n",
    "  else: \n",
    "    combined_xc = False\n",
    "  is_combined_xc.append(combined_xc)\n",
    "\n",
    "  func = pylibxc.LibXCFunctional(xc, \"polarized\")  \n",
    "  ref_name='\\cite{'\n",
    "  for ref in func.get_bibtex():\n",
    "    \n",
    "    latex_cite = ref.splitlines()[0]\n",
    "    # get latex cite name by removing the following prefixes\n",
    "    # like @article{, @inproceedings{, @Inbook{, @misc{, etc.\n",
    "    latex_cite = re.search(r'@.*{(.*)', latex_cite).group(1)  \n",
    "\n",
    "    if latex_cite == 'Bilc2008_165107,':\n",
    "        # fix for Bilc2008_165107 ref.\n",
    "        ref = ref.replace(r'{\\'{I}\\\\textasciitilde {n}iguez}', r'\\'I\\~niguez') \n",
    "\n",
    "    if ref not in bib_file:             \n",
    "      bib_file.append(ref)\n",
    "    \n",
    "    ref_name += latex_cite\n",
    "    \n",
    "  ref_name = ref_name[:-1] + '}' \n",
    "  ref_names.append(ref_name)\n",
    "\n",
    "df['Refs.'] = ref_names \n",
    "df['combined xc'] = is_combined_xc\n",
    "\n",
    "# write out bib file\n",
    "bib_file = \"\\n\".join(bib_file)\n",
    "out_file = out_path / data_path.name.replace('.csv','.bib')\n",
    "f = open(out_file, \"w\")\n",
    "f.write(bib_file)\n",
    "f.close()\n",
    "print('wrote file: ', out_file)\n"
   ]
  },
  {
   "cell_type": "markdown",
   "metadata": {},
   "source": [
    "Create latex tables"
   ]
  },
  {
   "cell_type": "code",
   "execution_count": 3,
   "metadata": {},
   "outputs": [
    {
     "name": "stdout",
     "output_type": "stream",
     "text": [
      "wrote file:  out/comprehensive_search_GGA-0.tex\n",
      "wrote file:  out/comprehensive_search_GGA-1.tex\n",
      "wrote file:  out/comprehensive_search_MGGA-0.tex\n",
      "wrote file:  out/comprehensive_search_HYB_GGA-0.tex\n",
      "wrote file:  out/comprehensive_search_HYB_GGA-1.tex\n",
      "wrote file:  out/comprehensive_search_HYB_MGGA-0.tex\n"
     ]
    }
   ],
   "source": [
    "\n",
    "# max number of rows in each table (to account for page breaks)\n",
    "max_table_size=60\n",
    "\n",
    "table_header = {\n",
    "    'table_name': '',\n",
    "    'negativity_check': r'\\makecell[c]{$E\\C[n]$ \\\\ non-positivity}',\n",
    "    'deriv_lower_bd_check': r'\\makecell[c]{$E\\C[n\\g]$ uniform \\\\ scaling inequality}',\n",
    "    'deriv_upper_bd_check_1': r'\\makecell[c]{$T\\C[n]$ \\\\ upper bound}',\n",
    "    'second_deriv_check': r'\\makecell[c]{concavity of \\\\ $\\lambda^2 E\\c[n_{1/\\lambda}]$}',\n",
    "    'lieb_oxford_bd_check_Exc': r'\\makecell[c]{LO extension \\\\ to $E\\xc$}',\n",
    "    'lieb_oxford_bd_check_Uxc': r'\\makecell[c]{LO}',\n",
    "    \"deriv_upper_bd_check_2\": r'\\makecell[c]{conjecture: \\\\ $T_c \\leq -E_c$}',\n",
    "}\n",
    "\n",
    "# latex table captions\n",
    "captions = {\n",
    "    'GGA': 'GGA functionals: numerical assessment of corresponding local conditions.',\n",
    "    'MGGA': 'MGGA functionals: numerical assessment of corresponding local conditions.',\n",
    "    'HYB_GGA': 'Hybrid GGA functionals: numerical assessment of corresponding local conditions.',\n",
    "    'HYB_MGGA': 'Hybrid MGGA functionals: numerical assessment of corresponding local conditions.',\n",
    "}\n",
    "\n",
    "# create a more manageable dataframe to use for the printed table\n",
    "min_df = df[[\"xc_id\", \"xc_name\", \"type\", \"Refs.\", \"condition\", \"violation fraction\"]]\n",
    "# rearrange the dataframe to have the conditions as columns\n",
    "table_df = min_df.pivot_table(values='violation fraction', index=min_df['xc_id'], columns='condition', aggfunc='first')\n",
    "table_df[\"table_name\"] = min_df.groupby('xc_id').apply(lambda x: (x['xc_name'] + \"~\" + x['Refs.']).iloc[0])\n",
    "table_df[\"type\"] = min_df.groupby('xc_id').apply(lambda x: x['type'].iloc[0])\n",
    "\n",
    "sorted_cols = list(table_header)\n",
    "families = list(captions)\n",
    "for family in families:\n",
    "\n",
    "  tex_df = (table_df[table_df['type'] == family]\n",
    "    .sort_values(by=['table_name']))\n",
    "  \n",
    "  # use scientific notation for entries less than 0.001\n",
    "  tex_df.loc[:, sorted_cols[1:]] = tex_df[sorted_cols[1:]].applymap(lambda x: '{:.0e}'.format(x) if 0 < x < 0.001 else x)\n",
    "\n",
    "  tex_df = (tex_df.reindex(sorted_cols, axis=1)\n",
    "    .rename(columns=table_header)\n",
    "    .replace(0, '0')\n",
    "    .fillna('---')\n",
    "  )\n",
    "  \n",
    "  # split numpy array where the maximum size of each subarray is 50\n",
    "  ranges = np.arange(max_table_size, tex_df.shape[0], max_table_size)\n",
    "  split_tex_dfs = np.array_split(tex_df, ranges)\n",
    "\n",
    "  for i, split_tex_df in enumerate(split_tex_dfs):\n",
    "    # only show 3 decimal places\n",
    "    tex_sty = split_tex_df.style.format(precision=3).hide(axis='index')\n",
    "    caption = captions[family]\n",
    "    latex = tex_sty.to_latex(\n",
    "        column_format='|l|' + (len(tex_sty.columns)-1)*'c|',\n",
    "        hrules=True,\n",
    "        caption=caption,\n",
    "    )\n",
    "    # make table and caption take up full width\n",
    "    latex = latex.replace('begin{table}', 'begin{table*}').replace('end{table}', 'end{table*}')\n",
    "\n",
    "    out_file = out_path / data_path.name.replace('.csv',f'_{family}-{i}.tex')\n",
    "    f = open(out_file, \"w\")\n",
    "    f.write(latex)\n",
    "    f.close()\n",
    "    print('wrote file: ', out_file)"
   ]
  }
 ],
 "metadata": {
  "kernelspec": {
   "display_name": "venv",
   "language": "python",
   "name": "python3"
  },
  "language_info": {
   "codemirror_mode": {
    "name": "ipython",
    "version": 3
   },
   "file_extension": ".py",
   "mimetype": "text/x-python",
   "name": "python",
   "nbconvert_exporter": "python",
   "pygments_lexer": "ipython3",
   "version": "3.8.10"
  },
  "orig_nbformat": 4,
  "vscode": {
   "interpreter": {
    "hash": "6fd0d3d733b172599267e689b44a62d5cefe9a7c35e63011f7d16bcc16e8b289"
   }
  }
 },
 "nbformat": 4,
 "nbformat_minor": 2
}
